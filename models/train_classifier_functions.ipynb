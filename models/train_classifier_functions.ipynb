{
 "cells": [
  {
   "cell_type": "code",
   "execution_count": 1,
   "metadata": {},
   "outputs": [
    {
     "name": "stderr",
     "output_type": "stream",
     "text": [
      "[nltk_data] <urlopen error [SSL: CERTIFICATE_VERIFY_FAILED]\n",
      "[nltk_data]     certificate verify failed: unable to get local issuer\n",
      "[nltk_data]     certificate (_ssl.c:1000)>\n"
     ]
    }
   ],
   "source": [
    "import sys\n",
    "\n",
    "import nltk\n",
    "\n",
    "nltk.download([\"punkt\", \"wordnet\"])\n",
    "\n",
    "from nltk.tokenize import word_tokenize\n",
    "from nltk.stem import WordNetLemmatizer\n",
    "\n",
    "import pandas as pd\n",
    "import numpy as np\n",
    "\n",
    "from sqlalchemy import create_engine\n",
    "\n",
    "from sklearn.pipeline import Pipeline\n",
    "from sklearn.feature_extraction.text import TfidfVectorizer, HashingVectorizer\n",
    "from sklearn.svm import LinearSVC\n",
    "from sklearn.model_selection import train_test_split, GridSearchCV\n",
    "from sklearn.multioutput import MultiOutputClassifier\n",
    "from sklearn.metrics import precision_score, recall_score, accuracy_score\n",
    "\n",
    "import re\n",
    "\n",
    "import pickle"
   ]
  },
  {
   "cell_type": "code",
   "execution_count": null,
   "metadata": {},
   "outputs": [],
   "source": [
    "def load_data(database_filepath):\n",
    "    \"\"\"\n",
    "    Loads the data from the database and splits into the message values and the categories.\n",
    "\n",
    "    Parameters:\n",
    "    database_filepath (str): The path to the sqlite database file.\n",
    "\n",
    "    Returns:\n",
    "    X: The values for the messages column of the 'disaster_messages' table.\n",
    "    Y: The values for the categorical columns of the 'disaster_messages' table.\n",
    "    category_names: The names of the categorical columns.\n",
    "    \"\"\"\n",
    "    # Create the engine\n",
    "    engine = create_engine(f\"sqlite:///{database_filepath}\")\n",
    "    # Load the data in a pandas Dataframe\n",
    "    df = pd.read_sql_table(\"disaster_messages\", engine)\n",
    "\n",
    "    # Gets the values for the 'message' column\n",
    "    X = df.message.values\n",
    "    # These are the categorical columns in the dataset. Excluding the categories that have only one value.\n",
    "    category_names = [ cn for cn in df.columns[4:] if df[cn].nunique() > 1 ]\n",
    "    # Our Y should be only the part of the dataframe that contains the categories and the values for each record.\n",
    "    Y = df[category_names].values\n",
    "\n",
    "    return X, Y, category_names"
   ]
  },
  {
   "cell_type": "code",
   "execution_count": 3,
   "metadata": {},
   "outputs": [],
   "source": [
    "def tokenize(text):\n",
    "    \"\"\"\n",
    "    Tokenizes a string of text. Changes the case to lower case and removes any non-alphanumeric characters.\n",
    "\n",
    "    Parameters:\n",
    "    text (str): The string of text to clean and separate into tokens.\n",
    "\n",
    "    Returns:\n",
    "    list: A list of cleaned tokens for the input text.\n",
    "    \"\"\"\n",
    "    text = re.sub(r\"[^a-zA-Z0-9]\", \" \", text.lower())\n",
    "\n",
    "    tokens = word_tokenize(text)\n",
    "    lemmatizer = WordNetLemmatizer()\n",
    "\n",
    "    clean_tokens = []\n",
    "    for tok in tokens:\n",
    "        clean_tok = lemmatizer.lemmatize(tok).lower().strip()\n",
    "        clean_tokens.append(clean_tok)\n",
    "\n",
    "    return clean_tokens"
   ]
  },
  {
   "cell_type": "code",
   "execution_count": 4,
   "metadata": {},
   "outputs": [],
   "source": [
    "def build_model():\n",
    "    \"\"\"\n",
    "    Builds the model using a pipeline.\n",
    "\n",
    "    Parameters:\n",
    "    text (str): The string of text to clean and separate into tokens.\n",
    "\n",
    "    Returns:\n",
    "    list: A list of cleaned tokens for the input text.\n",
    "    \"\"\"\n",
    "    return Pipeline([\n",
    "        ( 'vect', HashingVectorizer( tokenizer=tokenize, token_pattern=None) ), \n",
    "        ( 'clf', MultiOutputClassifier( LinearSVC(dual='auto') ) )\n",
    "    ])"
   ]
  },
  {
   "cell_type": "code",
   "execution_count": 5,
   "metadata": {},
   "outputs": [],
   "source": [
    "def evaluate_model(model, X_test, Y_test, category_names):\n",
    "    \"\"\"\n",
    "    Calculates the accuracy, precision, and recall for the model based on the test data.\n",
    "\n",
    "    Parameters:\n",
    "    model: The model to evaluate.\n",
    "    X_test: The test data to evaluate the model on.\n",
    "    Y_test: The true values for the test data.\n",
    "    category_names: The names of the categories in the dataset.\n",
    "\n",
    "    Returns:\n",
    "    list: A list of cleaned tokens for the input text.\n",
    "    \"\"\"\n",
    "    Y_pred = model.predict(X_test)\n",
    "\n",
    "    model_score = model.score(X_test, Y_test)\n",
    "    accuracy = accuracy_score(Y_test, Y_pred)\n",
    "    precision = precision_score(Y_test, Y_pred, average='micro')\n",
    "    recall = recall_score(Y_test, Y_pred, average='micro')\n",
    "\n",
    "    print( f\"\\tModel score: {model_score:.2f}\" )\n",
    "    print( f\"\\tAccy: {accuracy:.2f}\" )\n",
    "    print( f\"\\tPrec: {precision:.2f}\" )\n",
    "    print( f\"\\tRecl: {recall:.2f}\" )"
   ]
  },
  {
   "cell_type": "code",
   "execution_count": null,
   "metadata": {},
   "outputs": [],
   "source": [
    "def save_model(model, model_filepath):\n",
    "    \"\"\"\n",
    "    Builds the model using a pipeline.\n",
    "\n",
    "    Parameters:\n",
    "    model (obj): The model that we have trained.\n",
    "    model_filepath (str): The path for where to save the model as a pickle file.\n",
    "    \"\"\"\n",
    "    pickle.dump(model, open(model_filepath, \"wb\"))"
   ]
  },
  {
   "cell_type": "code",
   "execution_count": 7,
   "metadata": {},
   "outputs": [
    {
     "name": "stdout",
     "output_type": "stream",
     "text": [
      "Loading data...\n",
      "    DATABASE: project_2.db\n",
      "Building model...\n",
      "Training model...\n",
      "Evaluating model...\n",
      "\tModel score: 0.31\n",
      "\tAccy: 0.31\n",
      "\tPrec: 0.81\n",
      "\tRecl: 0.60\n",
      "Saving model...\n",
      "    MODEL: model.pkl\n",
      "Trained model saved!\n"
     ]
    }
   ],
   "source": [
    "database_filepath = 'project_2.db'\n",
    "model_filepath = 'model.pkl'\n",
    "\n",
    "print(\"Loading data...\\n    DATABASE: {}\".format(database_filepath))\n",
    "X, Y, category_names = load_data(database_filepath)\n",
    "X_train, X_test, Y_train, Y_test = train_test_split(X, Y, test_size=0.2)\n",
    "\n",
    "print(\"Building model...\")\n",
    "model = build_model()\n",
    "\n",
    "print(\"Training model...\")\n",
    "model.fit(X_train, Y_train)\n",
    "\n",
    "print(\"Evaluating model...\")\n",
    "evaluate_model(model, X_test, Y_test, category_names)\n",
    "\n",
    "print(\"Saving model...\\n    MODEL: {}\".format(model_filepath))\n",
    "save_model(model, model_filepath)\n",
    "\n",
    "print(\"Trained model saved!\")"
   ]
  }
 ],
 "metadata": {
  "kernelspec": {
   "display_name": "new_base",
   "language": "python",
   "name": "python3"
  },
  "language_info": {
   "codemirror_mode": {
    "name": "ipython",
    "version": 3
   },
   "file_extension": ".py",
   "mimetype": "text/x-python",
   "name": "python",
   "nbconvert_exporter": "python",
   "pygments_lexer": "ipython3",
   "version": "3.12.8"
  }
 },
 "nbformat": 4,
 "nbformat_minor": 2
}
