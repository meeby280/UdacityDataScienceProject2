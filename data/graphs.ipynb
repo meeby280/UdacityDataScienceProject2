{
 "cells": [
  {
   "cell_type": "code",
   "execution_count": 72,
   "metadata": {},
   "outputs": [],
   "source": [
    "import pandas as pd\n",
    "from sqlalchemy import create_engine\n",
    "\n",
    "import plotly\n",
    "import plotly.graph_objs as go\n",
    "import plotly.express as px\n",
    "\n",
    "import json\n",
    "\n",
    "from nltk.stem import WordNetLemmatizer\n",
    "from nltk.tokenize import word_tokenize\n",
    "\n",
    "import math"
   ]
  },
  {
   "cell_type": "code",
   "execution_count": 73,
   "metadata": {},
   "outputs": [],
   "source": [
    "database_filepath = 'DisasterResponse.db'"
   ]
  },
  {
   "cell_type": "code",
   "execution_count": 74,
   "metadata": {},
   "outputs": [],
   "source": [
    "# Create the engine\n",
    "engine = create_engine(f\"sqlite:///{database_filepath}\")\n",
    "# Load the data in a pandas Dataframe\n",
    "df = pd.read_sql_table(\"disaster_messages\", engine)"
   ]
  },
  {
   "cell_type": "code",
   "execution_count": 75,
   "metadata": {},
   "outputs": [],
   "source": [
    "def get_graph_json(graph):\n",
    "    return json.dumps(graph, cls=plotly.utils.PlotlyJSONEncoder)"
   ]
  },
  {
   "cell_type": "markdown",
   "metadata": {},
   "source": [
    "# Example already in script"
   ]
  },
  {
   "cell_type": "code",
   "execution_count": 76,
   "metadata": {},
   "outputs": [],
   "source": [
    "genre_counts = df.groupby('genre').count()['message']\n",
    "genre_names = list(genre_counts.index)\n",
    "\n",
    "# genre_counts_graph = px.bar(\n",
    "#     x=genre_names,\n",
    "#     y=genre_counts,\n",
    "#     title='Distribution of Message Genres',\n",
    "#     labels={\n",
    "#         'x': 'Genre',\n",
    "#         'y': 'Count'\n",
    "#     }\n",
    "# ).to_dict()\n",
    "\n",
    "# plotly.io.from_json( get_graph_json(genre_counts_graph) )"
   ]
  },
  {
   "cell_type": "markdown",
   "metadata": {},
   "source": [
    "# Counts per Message Category"
   ]
  },
  {
   "cell_type": "code",
   "execution_count": 77,
   "metadata": {},
   "outputs": [],
   "source": [
    "# Counts per category for the top 10 categories\n",
    "msg_category_cols = df.columns[4:]\n",
    "cat_count = df[msg_category_cols].sum().sort_values(ascending=False).head(10).reset_index().rename(columns={'index': 'category', 0: 'count'})\n",
    "\n",
    "# cat_counts_graph = {\n",
    "#     'data': [\n",
    "#         go.Bar(\n",
    "#             x=msg_category_display,\n",
    "#             y=cat_count\n",
    "#         )\n",
    "#     ],\n",
    "\n",
    "#     'layout': {\n",
    "#         'title': {\n",
    "#             'text': 'Count of Messages by Category'\n",
    "#         },\n",
    "#         'yaxis': {\n",
    "#             'title': {\n",
    "#                 'text': \"Count\"\n",
    "#             }\n",
    "#         },\n",
    "#         'xaxis': {\n",
    "#             'title': {\n",
    "#                 'text': \"Message Category\"\n",
    "#             }\n",
    "#         }\n",
    "#     }\n",
    "# }\n",
    "\n",
    "cat_counts_graph = px.bar(\n",
    "    data_frame=cat_count,\n",
    "    x='category',\n",
    "    y='count',\n",
    "    title='Count of Messages by Category',\n",
    "    labels={\n",
    "        'x': 'Message Category',\n",
    "        'y': 'Count'\n",
    "    }\n",
    ")\n",
    "\n",
    "# plotly.io.from_json( get_graph_json( cat_counts_graph.to_dict() ) )"
   ]
  },
  {
   "cell_type": "markdown",
   "metadata": {},
   "source": [
    "# Counts of translated message - Bar"
   ]
  },
  {
   "cell_type": "code",
   "execution_count": 78,
   "metadata": {},
   "outputs": [],
   "source": [
    "# # df['diff_lang'] = df['message'] != df['original']\n",
    "# df['diff_lang'] = df.apply( lambda row: 'Translated' if row['message'] != row['original'] else \"English\", axis=1 )\n",
    "# diff_lang_count = df.groupby('diff_lang').count()['message'].reset_index().rename(columns={'message': 'count'})\n",
    "\n",
    "# display(diff_lang_count)\n",
    "\n",
    "# diff_lang_graph = {\n",
    "#     'data': [\n",
    "#         go.Bar(\n",
    "#             x=diff_lang_count['diff_lang'],\n",
    "#             y=diff_lang_count['count']\n",
    "#         )\n",
    "#     ],\n",
    "\n",
    "#     'layout': {\n",
    "#         'title': {\n",
    "#             'text': 'Count of Messages Not in English'\n",
    "#         },\n",
    "#         'yaxis': {\n",
    "#             'title': {\n",
    "#                 'text': \"Count\"\n",
    "#             }\n",
    "#         },\n",
    "#         'xaxis': {\n",
    "#             'title': {\n",
    "#                 'text': \"Translation\"\n",
    "#             }\n",
    "#         }\n",
    "#     }\n",
    "# }\n",
    "\n",
    "# plotly.io.from_json( get_graph_json(diff_lang_graph) )"
   ]
  },
  {
   "cell_type": "markdown",
   "metadata": {},
   "source": [
    "# Count of translated messages - Pie"
   ]
  },
  {
   "cell_type": "code",
   "execution_count": 79,
   "metadata": {},
   "outputs": [],
   "source": [
    "# df['diff_lang'] = df.apply( lambda row: 'Translated' if row['message'] != row['original'] else \"English\", axis=1 )\n",
    "# diff_lang_count = df.groupby('diff_lang').count()['message'].reset_index().rename(columns={'message': 'count'})\n",
    "\n",
    "# diff_lang_graph = {\n",
    "#     'data': [\n",
    "#         go.Pie(\n",
    "#             labels=diff_lang_count['diff_lang'], values=diff_lang_count['count']\n",
    "#         )\n",
    "#     ],\n",
    "\n",
    "#     'layout': {\n",
    "#         'title': {\n",
    "#             'text': 'Count of Messages Not in English'\n",
    "#         }\n",
    "#     }\n",
    "# }\n",
    "\n",
    "# plotly.io.from_json( get_graph_json(diff_lang_graph) )"
   ]
  },
  {
   "cell_type": "markdown",
   "metadata": {},
   "source": [
    "# Counts of words per message - Pie chart"
   ]
  },
  {
   "cell_type": "code",
   "execution_count": 80,
   "metadata": {},
   "outputs": [],
   "source": [
    "def tokenize(text):\n",
    "    tokens = word_tokenize(text)\n",
    "    lemmatizer = WordNetLemmatizer()\n",
    "\n",
    "    clean_tokens = []\n",
    "    for tok in tokens:\n",
    "        clean_tok = lemmatizer.lemmatize(tok).lower().strip()\n",
    "        clean_tokens.append(clean_tok)\n",
    "\n",
    "    return clean_tokens"
   ]
  },
  {
   "cell_type": "code",
   "execution_count": 81,
   "metadata": {},
   "outputs": [
    {
     "data": {
      "application/vnd.plotly.v1+json": {
       "config": {
        "plotlyServerURL": "https://plot.ly"
       },
       "data": [
        {
         "domain": {
          "x": [
           0,
           1
          ],
          "y": [
           0,
           1
          ]
         },
         "hovertemplate": "Word Count=%{label}<br>Count=%{value}<extra></extra>",
         "labels": [
          "0-9",
          "10-19",
          "20-29",
          "30-39",
          "40-49",
          "50+"
         ],
         "legendgroup": "",
         "name": "",
         "showlegend": true,
         "textinfo": "percent+label",
         "type": "pie",
         "values": {
          "bdata": "ZgvsHqAcURIeCAQF",
          "dtype": "i2"
         }
        }
       ],
       "layout": {
        "legend": {
         "tracegroupgap": 0
        },
        "template": {
         "data": {
          "bar": [
           {
            "error_x": {
             "color": "#2a3f5f"
            },
            "error_y": {
             "color": "#2a3f5f"
            },
            "marker": {
             "line": {
              "color": "#E5ECF6",
              "width": 0.5
             },
             "pattern": {
              "fillmode": "overlay",
              "size": 10,
              "solidity": 0.2
             }
            },
            "type": "bar"
           }
          ],
          "barpolar": [
           {
            "marker": {
             "line": {
              "color": "#E5ECF6",
              "width": 0.5
             },
             "pattern": {
              "fillmode": "overlay",
              "size": 10,
              "solidity": 0.2
             }
            },
            "type": "barpolar"
           }
          ],
          "carpet": [
           {
            "aaxis": {
             "endlinecolor": "#2a3f5f",
             "gridcolor": "white",
             "linecolor": "white",
             "minorgridcolor": "white",
             "startlinecolor": "#2a3f5f"
            },
            "baxis": {
             "endlinecolor": "#2a3f5f",
             "gridcolor": "white",
             "linecolor": "white",
             "minorgridcolor": "white",
             "startlinecolor": "#2a3f5f"
            },
            "type": "carpet"
           }
          ],
          "choropleth": [
           {
            "colorbar": {
             "outlinewidth": 0,
             "ticks": ""
            },
            "type": "choropleth"
           }
          ],
          "contour": [
           {
            "colorbar": {
             "outlinewidth": 0,
             "ticks": ""
            },
            "colorscale": [
             [
              0,
              "#0d0887"
             ],
             [
              0.1111111111111111,
              "#46039f"
             ],
             [
              0.2222222222222222,
              "#7201a8"
             ],
             [
              0.3333333333333333,
              "#9c179e"
             ],
             [
              0.4444444444444444,
              "#bd3786"
             ],
             [
              0.5555555555555556,
              "#d8576b"
             ],
             [
              0.6666666666666666,
              "#ed7953"
             ],
             [
              0.7777777777777778,
              "#fb9f3a"
             ],
             [
              0.8888888888888888,
              "#fdca26"
             ],
             [
              1,
              "#f0f921"
             ]
            ],
            "type": "contour"
           }
          ],
          "contourcarpet": [
           {
            "colorbar": {
             "outlinewidth": 0,
             "ticks": ""
            },
            "type": "contourcarpet"
           }
          ],
          "heatmap": [
           {
            "colorbar": {
             "outlinewidth": 0,
             "ticks": ""
            },
            "colorscale": [
             [
              0,
              "#0d0887"
             ],
             [
              0.1111111111111111,
              "#46039f"
             ],
             [
              0.2222222222222222,
              "#7201a8"
             ],
             [
              0.3333333333333333,
              "#9c179e"
             ],
             [
              0.4444444444444444,
              "#bd3786"
             ],
             [
              0.5555555555555556,
              "#d8576b"
             ],
             [
              0.6666666666666666,
              "#ed7953"
             ],
             [
              0.7777777777777778,
              "#fb9f3a"
             ],
             [
              0.8888888888888888,
              "#fdca26"
             ],
             [
              1,
              "#f0f921"
             ]
            ],
            "type": "heatmap"
           }
          ],
          "histogram": [
           {
            "marker": {
             "pattern": {
              "fillmode": "overlay",
              "size": 10,
              "solidity": 0.2
             }
            },
            "type": "histogram"
           }
          ],
          "histogram2d": [
           {
            "colorbar": {
             "outlinewidth": 0,
             "ticks": ""
            },
            "colorscale": [
             [
              0,
              "#0d0887"
             ],
             [
              0.1111111111111111,
              "#46039f"
             ],
             [
              0.2222222222222222,
              "#7201a8"
             ],
             [
              0.3333333333333333,
              "#9c179e"
             ],
             [
              0.4444444444444444,
              "#bd3786"
             ],
             [
              0.5555555555555556,
              "#d8576b"
             ],
             [
              0.6666666666666666,
              "#ed7953"
             ],
             [
              0.7777777777777778,
              "#fb9f3a"
             ],
             [
              0.8888888888888888,
              "#fdca26"
             ],
             [
              1,
              "#f0f921"
             ]
            ],
            "type": "histogram2d"
           }
          ],
          "histogram2dcontour": [
           {
            "colorbar": {
             "outlinewidth": 0,
             "ticks": ""
            },
            "colorscale": [
             [
              0,
              "#0d0887"
             ],
             [
              0.1111111111111111,
              "#46039f"
             ],
             [
              0.2222222222222222,
              "#7201a8"
             ],
             [
              0.3333333333333333,
              "#9c179e"
             ],
             [
              0.4444444444444444,
              "#bd3786"
             ],
             [
              0.5555555555555556,
              "#d8576b"
             ],
             [
              0.6666666666666666,
              "#ed7953"
             ],
             [
              0.7777777777777778,
              "#fb9f3a"
             ],
             [
              0.8888888888888888,
              "#fdca26"
             ],
             [
              1,
              "#f0f921"
             ]
            ],
            "type": "histogram2dcontour"
           }
          ],
          "mesh3d": [
           {
            "colorbar": {
             "outlinewidth": 0,
             "ticks": ""
            },
            "type": "mesh3d"
           }
          ],
          "parcoords": [
           {
            "line": {
             "colorbar": {
              "outlinewidth": 0,
              "ticks": ""
             }
            },
            "type": "parcoords"
           }
          ],
          "pie": [
           {
            "automargin": true,
            "type": "pie"
           }
          ],
          "scatter": [
           {
            "fillpattern": {
             "fillmode": "overlay",
             "size": 10,
             "solidity": 0.2
            },
            "type": "scatter"
           }
          ],
          "scatter3d": [
           {
            "line": {
             "colorbar": {
              "outlinewidth": 0,
              "ticks": ""
             }
            },
            "marker": {
             "colorbar": {
              "outlinewidth": 0,
              "ticks": ""
             }
            },
            "type": "scatter3d"
           }
          ],
          "scattercarpet": [
           {
            "marker": {
             "colorbar": {
              "outlinewidth": 0,
              "ticks": ""
             }
            },
            "type": "scattercarpet"
           }
          ],
          "scattergeo": [
           {
            "marker": {
             "colorbar": {
              "outlinewidth": 0,
              "ticks": ""
             }
            },
            "type": "scattergeo"
           }
          ],
          "scattergl": [
           {
            "marker": {
             "colorbar": {
              "outlinewidth": 0,
              "ticks": ""
             }
            },
            "type": "scattergl"
           }
          ],
          "scattermap": [
           {
            "marker": {
             "colorbar": {
              "outlinewidth": 0,
              "ticks": ""
             }
            },
            "type": "scattermap"
           }
          ],
          "scattermapbox": [
           {
            "marker": {
             "colorbar": {
              "outlinewidth": 0,
              "ticks": ""
             }
            },
            "type": "scattermapbox"
           }
          ],
          "scatterpolar": [
           {
            "marker": {
             "colorbar": {
              "outlinewidth": 0,
              "ticks": ""
             }
            },
            "type": "scatterpolar"
           }
          ],
          "scatterpolargl": [
           {
            "marker": {
             "colorbar": {
              "outlinewidth": 0,
              "ticks": ""
             }
            },
            "type": "scatterpolargl"
           }
          ],
          "scatterternary": [
           {
            "marker": {
             "colorbar": {
              "outlinewidth": 0,
              "ticks": ""
             }
            },
            "type": "scatterternary"
           }
          ],
          "surface": [
           {
            "colorbar": {
             "outlinewidth": 0,
             "ticks": ""
            },
            "colorscale": [
             [
              0,
              "#0d0887"
             ],
             [
              0.1111111111111111,
              "#46039f"
             ],
             [
              0.2222222222222222,
              "#7201a8"
             ],
             [
              0.3333333333333333,
              "#9c179e"
             ],
             [
              0.4444444444444444,
              "#bd3786"
             ],
             [
              0.5555555555555556,
              "#d8576b"
             ],
             [
              0.6666666666666666,
              "#ed7953"
             ],
             [
              0.7777777777777778,
              "#fb9f3a"
             ],
             [
              0.8888888888888888,
              "#fdca26"
             ],
             [
              1,
              "#f0f921"
             ]
            ],
            "type": "surface"
           }
          ],
          "table": [
           {
            "cells": {
             "fill": {
              "color": "#EBF0F8"
             },
             "line": {
              "color": "white"
             }
            },
            "header": {
             "fill": {
              "color": "#C8D4E3"
             },
             "line": {
              "color": "white"
             }
            },
            "type": "table"
           }
          ]
         },
         "layout": {
          "annotationdefaults": {
           "arrowcolor": "#2a3f5f",
           "arrowhead": 0,
           "arrowwidth": 1
          },
          "autotypenumbers": "strict",
          "coloraxis": {
           "colorbar": {
            "outlinewidth": 0,
            "ticks": ""
           }
          },
          "colorscale": {
           "diverging": [
            [
             0,
             "#8e0152"
            ],
            [
             0.1,
             "#c51b7d"
            ],
            [
             0.2,
             "#de77ae"
            ],
            [
             0.3,
             "#f1b6da"
            ],
            [
             0.4,
             "#fde0ef"
            ],
            [
             0.5,
             "#f7f7f7"
            ],
            [
             0.6,
             "#e6f5d0"
            ],
            [
             0.7,
             "#b8e186"
            ],
            [
             0.8,
             "#7fbc41"
            ],
            [
             0.9,
             "#4d9221"
            ],
            [
             1,
             "#276419"
            ]
           ],
           "sequential": [
            [
             0,
             "#0d0887"
            ],
            [
             0.1111111111111111,
             "#46039f"
            ],
            [
             0.2222222222222222,
             "#7201a8"
            ],
            [
             0.3333333333333333,
             "#9c179e"
            ],
            [
             0.4444444444444444,
             "#bd3786"
            ],
            [
             0.5555555555555556,
             "#d8576b"
            ],
            [
             0.6666666666666666,
             "#ed7953"
            ],
            [
             0.7777777777777778,
             "#fb9f3a"
            ],
            [
             0.8888888888888888,
             "#fdca26"
            ],
            [
             1,
             "#f0f921"
            ]
           ],
           "sequentialminus": [
            [
             0,
             "#0d0887"
            ],
            [
             0.1111111111111111,
             "#46039f"
            ],
            [
             0.2222222222222222,
             "#7201a8"
            ],
            [
             0.3333333333333333,
             "#9c179e"
            ],
            [
             0.4444444444444444,
             "#bd3786"
            ],
            [
             0.5555555555555556,
             "#d8576b"
            ],
            [
             0.6666666666666666,
             "#ed7953"
            ],
            [
             0.7777777777777778,
             "#fb9f3a"
            ],
            [
             0.8888888888888888,
             "#fdca26"
            ],
            [
             1,
             "#f0f921"
            ]
           ]
          },
          "colorway": [
           "#636efa",
           "#EF553B",
           "#00cc96",
           "#ab63fa",
           "#FFA15A",
           "#19d3f3",
           "#FF6692",
           "#B6E880",
           "#FF97FF",
           "#FECB52"
          ],
          "font": {
           "color": "#2a3f5f"
          },
          "geo": {
           "bgcolor": "white",
           "lakecolor": "white",
           "landcolor": "#E5ECF6",
           "showlakes": true,
           "showland": true,
           "subunitcolor": "white"
          },
          "hoverlabel": {
           "align": "left"
          },
          "hovermode": "closest",
          "mapbox": {
           "style": "light"
          },
          "paper_bgcolor": "white",
          "plot_bgcolor": "#E5ECF6",
          "polar": {
           "angularaxis": {
            "gridcolor": "white",
            "linecolor": "white",
            "ticks": ""
           },
           "bgcolor": "#E5ECF6",
           "radialaxis": {
            "gridcolor": "white",
            "linecolor": "white",
            "ticks": ""
           }
          },
          "scene": {
           "xaxis": {
            "backgroundcolor": "#E5ECF6",
            "gridcolor": "white",
            "gridwidth": 2,
            "linecolor": "white",
            "showbackground": true,
            "ticks": "",
            "zerolinecolor": "white"
           },
           "yaxis": {
            "backgroundcolor": "#E5ECF6",
            "gridcolor": "white",
            "gridwidth": 2,
            "linecolor": "white",
            "showbackground": true,
            "ticks": "",
            "zerolinecolor": "white"
           },
           "zaxis": {
            "backgroundcolor": "#E5ECF6",
            "gridcolor": "white",
            "gridwidth": 2,
            "linecolor": "white",
            "showbackground": true,
            "ticks": "",
            "zerolinecolor": "white"
           }
          },
          "shapedefaults": {
           "line": {
            "color": "#2a3f5f"
           }
          },
          "ternary": {
           "aaxis": {
            "gridcolor": "white",
            "linecolor": "white",
            "ticks": ""
           },
           "baxis": {
            "gridcolor": "white",
            "linecolor": "white",
            "ticks": ""
           },
           "bgcolor": "#E5ECF6",
           "caxis": {
            "gridcolor": "white",
            "linecolor": "white",
            "ticks": ""
           }
          },
          "title": {
           "x": 0.05
          },
          "xaxis": {
           "automargin": true,
           "gridcolor": "white",
           "linecolor": "white",
           "ticks": "",
           "title": {
            "standoff": 15
           },
           "zerolinecolor": "white",
           "zerolinewidth": 2
          },
          "yaxis": {
           "automargin": true,
           "gridcolor": "white",
           "linecolor": "white",
           "ticks": "",
           "title": {
            "standoff": 15
           },
           "zerolinecolor": "white",
           "zerolinewidth": 2
          }
         }
        },
        "title": {
         "text": "Counts of Message Lengths"
        }
       }
      }
     },
     "metadata": {},
     "output_type": "display_data"
    }
   ],
   "source": [
    "# Count of messages per length bin\n",
    "bins = [0, 10, 20, 30, 40, 50, float('inf')]\n",
    "labels=['0-9', '10-19', '20-29', '30-39', '40-49', '50+']\n",
    "word_count = df['message'].apply( lambda msg: len(tokenize(msg)) ).rename('word_count').reset_index(drop=True)\n",
    "word_count_bins = pd.cut( word_count, bins=bins, labels=labels )\n",
    "count_per_bin = word_count_bins.value_counts().sort_index().reset_index()#.rename(columns={'word_count': 'Word Count In Message'})\n",
    "\n",
    "# word_count_graph = {\n",
    "#     'data': [\n",
    "#         go.Pie(\n",
    "#             labels=count_per_bin['bins'], values=count_per_bin['count'], sort=False\n",
    "#         )\n",
    "#     ],\n",
    "\n",
    "#     'layout': {\n",
    "#         'title': {\n",
    "#             'text': 'Counts of Message Lengths'\n",
    "#         }\n",
    "#     }\n",
    "# }\n",
    "\n",
    "word_count_graph = px.pie(\n",
    "    data_frame=count_per_bin,\n",
    "    values='count', \n",
    "    names='word_count', \n",
    "    title='Counts of Message Lengths',\n",
    "    labels={\n",
    "        'word_count': 'Word Count',\n",
    "        'count': 'Count'\n",
    "    }\n",
    ")\n",
    "\n",
    "word_count_graph.update_traces(textinfo='percent+label')\n",
    "\n",
    "# plotly.io.from_json( get_graph_json( word_count_graph.to_dict() ) )"
   ]
  },
  {
   "cell_type": "markdown",
   "metadata": {},
   "source": [
    "# Counts of words per message - Histogram"
   ]
  },
  {
   "cell_type": "code",
   "execution_count": 82,
   "metadata": {},
   "outputs": [],
   "source": [
    "# import plotly.figure_factory as ff\n",
    "\n",
    "# word_count = df['message'].apply( lambda msg: len(tokenize(msg)) ).rename('word_count').reset_index(drop=True)\n",
    "# word_count_u100 = word_count[word_count < 100]\n",
    "# word_count_o100 = word_count[word_count >= 100]\n",
    "\n",
    "# fig1 = ff.create_distplot([word_count_u100], ['Word Count (under 100 words)'], bin_size=1)\n",
    "# fig2 = ff.create_distplot([word_count_o100], ['Word Count (over 100 words)'], bin_size=100)\n",
    "# fig1.show()\n",
    "# fig2.show()"
   ]
  },
  {
   "cell_type": "markdown",
   "metadata": {},
   "source": [
    "# Message Categories by Count by Word Count"
   ]
  },
  {
   "cell_type": "code",
   "execution_count": 83,
   "metadata": {},
   "outputs": [],
   "source": [
    "# group the dataframe by word_count bin and category and get the count for each group.\n",
    "# x axis can be the word_count bin, y axis can be the count, and the size of the bubble can be the category count\n",
    "\n",
    "# cat_wordcount_counts = df.copy()\n",
    "\n",
    "# bins = [0, 10, 20, 30, 40, 50, float('inf')]\n",
    "# labels=['0-9', '10-19', '20-29', '30-39', '40-49', '50+']\n",
    "# word_count = cat_wordcount_counts['message'].apply( lambda msg: len(tokenize(msg)) ).rename('word_count').reset_index(drop=True)\n",
    "# cat_wordcount_counts['word_count_bins'] = pd.cut( word_count, bins=bins, labels=labels )\n",
    "\n",
    "# msg_category_cols = df.columns[4:]\n",
    "# cat_count = cat_wordcount_counts[msg_category_cols].sum().sort_values(ascending=False)\n",
    "# msg_category_display = [ cn.replace(\"_\", \" \").capitalize() for cn in cat_count.index ]\n",
    "\n",
    "# cat_wordcount_counts = cat_wordcount_counts[['word_count_bins', *msg_category_cols]].groupby(['word_count_bins']).sum().reset_index()\n",
    "\n",
    "# count_by_category_and_bin = pd.melt( cat_wordcount_counts, id_vars=['word_count_bins'], value_vars=msg_category_cols, var_name='category', value_name='count' )\n",
    "# count_by_category_and_bin['marker_size'] = count_by_category_and_bin['word_count_bins'].apply( lambda x: int(x.split('-')[0]) + 10 if x != '50+' else 60 )\n",
    "\n",
    "# total_counts = count_by_category_and_bin.groupby('category')['count'].sum().reset_index().rename(columns={'count': 'total_count'})\n",
    "\n",
    "# count_by_category_and_bin = count_by_category_and_bin.merge(total_counts, on='category')\n",
    "# count_by_category_and_bin['percentage'] = count_by_category_and_bin['count'] / count_by_category_and_bin['total_count'] * 100\n",
    "# count_by_category_and_bin['percentage'] = count_by_category_and_bin['percentage'].apply( lambda x: round(x, 2) )\n",
    "\n",
    "# count_by_category_and_bin.sort_values(by=['category', 'word_count_bins'], ascending=[True, False], inplace=True)\n",
    "\n",
    "\n",
    "# ## creating a stacked barchart to show percentages per category - This is the final form, need to convert to json\n",
    "# percentage_per_bin_graph = px.bar(count_by_category_and_bin, x='category', y='percentage', color='word_count_bins', barmode='stack').to_dict()\n",
    "\n",
    "# plotly.io.from_json( get_graph_json(percentage_per_bin_graph) )"
   ]
  },
  {
   "cell_type": "code",
   "execution_count": 84,
   "metadata": {},
   "outputs": [],
   "source": [
    "# Counts per category for the top 10 categories\n",
    "# Gets the columns for the message categories\n",
    "msg_category_cols = df.columns[4:]\n",
    "# Counts of messages per category and gets the top 10 categories by count.\n",
    "cat_count = df[ msg_category_cols ] \\\n",
    "            .sum() \\\n",
    "            .sort_values( ascending = False ) \\\n",
    "            .head( 10 ) \\\n",
    "            .reset_index() \\\n",
    "            .rename( columns = { 'index': 'category', 0: 'count' } )\n",
    "\n",
    "# Count of messages per length bin\n",
    "# Creating the bins and labels for the word count bins\n",
    "bins = [ 0, 10, 20, 30, 40, 50, float('inf') ]\n",
    "labels = [ '0-9', '10-19', '20-29', '30-39', '40-49', '50+' ]\n",
    "# Calculates the word count per each message using the tokenize function\n",
    "word_count = df['message'].apply( lambda msg: len( tokenize(msg) ) ).rename('word_count').reset_index(drop=True)\n",
    "# Uses the pandas cut method to bin the word counts according to those created above\n",
    "df['word_count_bin'] = pd.cut( word_count, bins=bins, labels=labels )\n",
    "# word_count_bins = pd.cut( word_count, bins=bins, labels=labels )\n",
    "# Counts the number of messages that fall into each bin\n",
    "count_per_bin = df.groupby(['word_count_bin'], observed=False).agg( count=('word_count_bin', 'count') ).reset_index()"
   ]
  },
  {
   "cell_type": "code",
   "execution_count": 91,
   "metadata": {},
   "outputs": [
    {
     "data": {
      "application/vnd.plotly.v1+json": {
       "config": {
        "plotlyServerURL": "https://plot.ly"
       },
       "data": [
        {
         "hovertemplate": "word_count_bin=50+<br>category=%{x}<br>percentage=%{y}<extra></extra>",
         "legendgroup": "50+",
         "marker": {
          "color": "#636efa",
          "pattern": {
           "shape": ""
          }
         },
         "name": "50+",
         "orientation": "v",
         "showlegend": true,
         "textposition": "auto",
         "type": "bar",
         "x": [
          "aid_centers",
          "aid_related",
          "buildings",
          "child_alone",
          "clothing",
          "cold",
          "death",
          "direct_report",
          "earthquake",
          "electricity",
          "fire",
          "floods",
          "food",
          "hospitals",
          "infrastructure_related",
          "medical_help",
          "medical_products",
          "military",
          "missing_people",
          "money",
          "offer",
          "other_aid",
          "other_infrastructure",
          "other_weather",
          "refugees",
          "related",
          "request",
          "search_and_rescue",
          "security",
          "shelter",
          "shops",
          "storm",
          "tools",
          "transport",
          "water",
          "weather_related"
         ],
         "xaxis": "x",
         "y": {
          "bdata": "16NwPQrXK0CuR+F6FK4bQFyPwvUo3CRAAAAAAAAA+H8fhetRuB4uQIXrUbgeBSdAFK5H4XoUIUAzMzMzMzMPQAAAAAAAABZAUrgehevRK0BSuB6F69EoQLgehetRuCVAw/UoXI/CIEBSuB6F61EnQAAAAAAAACVA7FG4HoXrJEBxPQrXo3ApQIXrUbgeBSdA4XoUrkfhHkAAAAAAAIAoQHE9Ctej8CBASOF6FK5HHkAzMzMzMzMlQB+F61G4niNAmpmZmZmZKUAAAAAAAAAWQM3MzMzMzApA9ihcj8L1IUCkcD0K1yMgQBSuR+F6lCJAAAAAAAAALkBI4XoUrkclQHE9CtejcC9AexSuR+H6JkD2KFyPwnUkQD0K16NwPR9A",
          "dtype": "f8"
         },
         "yaxis": "y"
        },
        {
         "hovertemplate": "word_count_bin=40-49<br>category=%{x}<br>percentage=%{y}<extra></extra>",
         "legendgroup": "40-49",
         "marker": {
          "color": "#EF553B",
          "pattern": {
           "shape": ""
          }
         },
         "name": "40-49",
         "orientation": "v",
         "showlegend": true,
         "textposition": "auto",
         "type": "bar",
         "x": [
          "aid_centers",
          "aid_related",
          "buildings",
          "child_alone",
          "clothing",
          "cold",
          "death",
          "direct_report",
          "earthquake",
          "electricity",
          "fire",
          "floods",
          "food",
          "hospitals",
          "infrastructure_related",
          "medical_help",
          "medical_products",
          "military",
          "missing_people",
          "money",
          "offer",
          "other_aid",
          "other_infrastructure",
          "other_weather",
          "refugees",
          "related",
          "request",
          "search_and_rescue",
          "security",
          "shelter",
          "shops",
          "storm",
          "tools",
          "transport",
          "water",
          "weather_related"
         ],
         "xaxis": "x",
         "y": {
          "bdata": "XI/C9ShcJUBSuB6F69EkQClcj8L1qCZAAAAAAAAA+H/D9Shcj8IiQIXrUbgeBSdAUrgehevRLUAfhetRuB4bQMP1KFyPwhlA7FG4HoVrIkA9CtejcL0hQOxRuB6FaylAMzMzMzOzI0AfhetRuJ4mQPYoXI/CdSdASOF6FK5HKEApXI/C9SgnQPYoXI/CNTFAcT0K16NwIUDNzMzMzMwtQNejcD0KVyRA16NwPQpXIkDNzMzMzMwnQLgehetRuClAmpmZmZmZKUAK16NwPYohQClcj8L1KBxASOF6FK5HJUAK16NwPYojQEjhehSuxyVAKVyPwvWoL0DsUbgehWsnQGZmZmZm5idAUrgehevRIkBxPQrXo/AkQJqZmZmZGSRA",
          "dtype": "f8"
         },
         "yaxis": "y"
        },
        {
         "hovertemplate": "word_count_bin=30-39<br>category=%{x}<br>percentage=%{y}<extra></extra>",
         "legendgroup": "30-39",
         "marker": {
          "color": "#00cc96",
          "pattern": {
           "shape": ""
          }
         },
         "name": "30-39",
         "orientation": "v",
         "showlegend": true,
         "textposition": "auto",
         "type": "bar",
         "x": [
          "aid_centers",
          "aid_related",
          "buildings",
          "child_alone",
          "clothing",
          "cold",
          "death",
          "direct_report",
          "earthquake",
          "electricity",
          "fire",
          "floods",
          "food",
          "hospitals",
          "infrastructure_related",
          "medical_help",
          "medical_products",
          "military",
          "missing_people",
          "money",
          "offer",
          "other_aid",
          "other_infrastructure",
          "other_weather",
          "refugees",
          "related",
          "request",
          "search_and_rescue",
          "security",
          "shelter",
          "shops",
          "storm",
          "tools",
          "transport",
          "water",
          "weather_related"
         ],
         "xaxis": "x",
         "y": {
          "bdata": "FK5H4XpUNkBxPQrXo/A1QEjhehSuhzhAAAAAAAAA+H89CtejcH00QBSuR+F61DZAj8L1KFzPO0D2KFyPwrUxQOF6FK5H4S5ACtejcD1KMUDD9Shcj8I3QKRwPQrX4zlAXI/C9ShcNEB7FK5H4bo4QOF6FK5HoThA16NwPQoXOEDsUbgehes2QHE9CtejMD1AZmZmZmYmN0DXo3A9Clc3QNejcD0KVzRAFK5H4XoUNEBI4XoUrkc5QDMzMzMz8zVAAAAAAAAAPEAK16NwPYozQM3MzMzMTDFAUrgehevRNUAzMzMzMzM4QEjhehSuBzhAAAAAAAAANECPwvUoXA82QAAAAAAAwDRAexSuR+H6N0CuR+F6FG42QFK4HoXr0TRA",
          "dtype": "f8"
         },
         "yaxis": "y"
        },
        {
         "hovertemplate": "word_count_bin=20-29<br>category=%{x}<br>percentage=%{y}<extra></extra>",
         "legendgroup": "20-29",
         "marker": {
          "color": "#ab63fa",
          "pattern": {
           "shape": ""
          }
         },
         "name": "20-29",
         "orientation": "v",
         "showlegend": true,
         "textposition": "auto",
         "type": "bar",
         "x": [
          "aid_centers",
          "aid_related",
          "buildings",
          "child_alone",
          "clothing",
          "cold",
          "death",
          "direct_report",
          "earthquake",
          "electricity",
          "fire",
          "floods",
          "food",
          "hospitals",
          "infrastructure_related",
          "medical_help",
          "medical_products",
          "military",
          "missing_people",
          "money",
          "offer",
          "other_aid",
          "other_infrastructure",
          "other_weather",
          "refugees",
          "related",
          "request",
          "search_and_rescue",
          "security",
          "shelter",
          "shops",
          "storm",
          "tools",
          "transport",
          "water",
          "weather_related"
         ],
         "xaxis": "x",
         "y": {
          "bdata": "mpmZmZkZPkAAAAAAAEA9QI/C9ShcDz9AAAAAAAAA+H89CtejcL00QFyPwvUovEFA4XoUrkfhOkAUrkfhehQ8QB+F61G4Xj1AexSuR+G6QEDNzMzMzEw7QM3MzMzMjD9AUrgehevROkDsUbgehes7QArXo3A9yj9ArkfhehTuPEBI4XoUrkc6QPYoXI/CNTtA9ihcj8I1P0B7FK5H4Xo8QEjhehSuBzZAzczMzMxMPkAK16NwPUpAQOxRuB6FK0BAhetRuB7FO0ApXI/C9Wg9QFK4HoXr0TlAMzMzMzOzPUDsUbgehWs/QD0K16NwvTtAAAAAAAAAOUA9CtejcL0+QI/C9Shcjz1AuB6F61G4P0BxPQrXo7A7QJqZmZmZ2T5A",
          "dtype": "f8"
         },
         "yaxis": "y"
        },
        {
         "hovertemplate": "word_count_bin=10-19<br>category=%{x}<br>percentage=%{y}<extra></extra>",
         "legendgroup": "10-19",
         "marker": {
          "color": "#FFA15A",
          "pattern": {
           "shape": ""
          }
         },
         "name": "10-19",
         "orientation": "v",
         "showlegend": true,
         "textposition": "auto",
         "type": "bar",
         "x": [
          "aid_centers",
          "aid_related",
          "buildings",
          "child_alone",
          "clothing",
          "cold",
          "death",
          "direct_report",
          "earthquake",
          "electricity",
          "fire",
          "floods",
          "food",
          "hospitals",
          "infrastructure_related",
          "medical_help",
          "medical_products",
          "military",
          "missing_people",
          "money",
          "offer",
          "other_aid",
          "other_infrastructure",
          "other_weather",
          "refugees",
          "related",
          "request",
          "search_and_rescue",
          "security",
          "shelter",
          "shops",
          "storm",
          "tools",
          "transport",
          "water",
          "weather_related"
         ],
         "xaxis": "x",
         "y": {
          "bdata": "j8L1KFwPNECkcD0K16M5QK5H4XoULjRAAAAAAAAA+H8pXI/C9eg6QArXo3A9CjBAw/UoXI+CM0ApXI/C9YhBQKRwPQrXIz5AH4XrUbheNkDNzMzMzAw3QMP1KFyPAjBA9ihcj8K1O0AK16NwPcozQNejcD0KlzJA16NwPQqXNED2KFyPwrU1QHsUrkfh+ipAZmZmZmYmN0DNzMzMzAwyQOxRuB6FazlAcT0K16NwOkDNzMzMzIwxQI/C9ShcDzRASOF6FK7HL0AK16NwPUo8QFK4HoXrMUJA16NwPQqXOEAzMzMzMzM4QIXrUbgexTdA7FG4HoWrNUC4HoXrUTg0QAAAAAAAgDNAZmZmZmbmM0AK16NwPQo4QNejcD0KlzdA",
          "dtype": "f8"
         },
         "yaxis": "y"
        },
        {
         "hovertemplate": "word_count_bin=0-9<br>category=%{x}<br>percentage=%{y}<extra></extra>",
         "legendgroup": "0-9",
         "marker": {
          "color": "#19d3f3",
          "pattern": {
           "shape": ""
          }
         },
         "name": "0-9",
         "orientation": "v",
         "showlegend": true,
         "textposition": "auto",
         "type": "bar",
         "x": [
          "aid_centers",
          "aid_related",
          "buildings",
          "child_alone",
          "clothing",
          "cold",
          "death",
          "direct_report",
          "earthquake",
          "electricity",
          "fire",
          "floods",
          "food",
          "hospitals",
          "infrastructure_related",
          "medical_help",
          "medical_products",
          "military",
          "missing_people",
          "money",
          "offer",
          "other_aid",
          "other_infrastructure",
          "other_weather",
          "refugees",
          "related",
          "request",
          "search_and_rescue",
          "security",
          "shelter",
          "shops",
          "storm",
          "tools",
          "transport",
          "water",
          "weather_related"
         ],
         "xaxis": "x",
         "y": {
          "bdata": "SOF6FK5HB0BI4XoUrkcXQNejcD0K1wNAAAAAAAAA+H+kcD0K16MdQB+F61G4HgVAzczMzMzMAkBmZmZmZuYgQD0K16NwPSpAFK5H4XoUDkBxPQrXo3ASQMP1KFyPwgdAhetRuB6FG0Bcj8L1KFwSQBSuR+F6FAZAUrgehetRDkAzMzMzMzMTQGZmZmZmZvY/KVyPwvUoGEDXo3A9CtcHQB+F61G4HitAw/UoXI/CGUC4HoXrUbgAQNejcD0K1wdA7FG4HoXrBUAAAAAAAAAhQDMzMzMzMyRAH4XrUbgeEUC4HoXrUbgCQB+F61G4HhFAAAAAAAAABECF61G4HoUSQClcj8L1KARAAAAAAAAADECPwvUoXI8UQI/C9ShcjxtA",
          "dtype": "f8"
         },
         "yaxis": "y"
        }
       ],
       "layout": {
        "barmode": "stack",
        "legend": {
         "title": {
          "text": "word_count_bin"
         },
         "tracegroupgap": 0
        },
        "template": {
         "data": {
          "bar": [
           {
            "error_x": {
             "color": "#2a3f5f"
            },
            "error_y": {
             "color": "#2a3f5f"
            },
            "marker": {
             "line": {
              "color": "#E5ECF6",
              "width": 0.5
             },
             "pattern": {
              "fillmode": "overlay",
              "size": 10,
              "solidity": 0.2
             }
            },
            "type": "bar"
           }
          ],
          "barpolar": [
           {
            "marker": {
             "line": {
              "color": "#E5ECF6",
              "width": 0.5
             },
             "pattern": {
              "fillmode": "overlay",
              "size": 10,
              "solidity": 0.2
             }
            },
            "type": "barpolar"
           }
          ],
          "carpet": [
           {
            "aaxis": {
             "endlinecolor": "#2a3f5f",
             "gridcolor": "white",
             "linecolor": "white",
             "minorgridcolor": "white",
             "startlinecolor": "#2a3f5f"
            },
            "baxis": {
             "endlinecolor": "#2a3f5f",
             "gridcolor": "white",
             "linecolor": "white",
             "minorgridcolor": "white",
             "startlinecolor": "#2a3f5f"
            },
            "type": "carpet"
           }
          ],
          "choropleth": [
           {
            "colorbar": {
             "outlinewidth": 0,
             "ticks": ""
            },
            "type": "choropleth"
           }
          ],
          "contour": [
           {
            "colorbar": {
             "outlinewidth": 0,
             "ticks": ""
            },
            "colorscale": [
             [
              0,
              "#0d0887"
             ],
             [
              0.1111111111111111,
              "#46039f"
             ],
             [
              0.2222222222222222,
              "#7201a8"
             ],
             [
              0.3333333333333333,
              "#9c179e"
             ],
             [
              0.4444444444444444,
              "#bd3786"
             ],
             [
              0.5555555555555556,
              "#d8576b"
             ],
             [
              0.6666666666666666,
              "#ed7953"
             ],
             [
              0.7777777777777778,
              "#fb9f3a"
             ],
             [
              0.8888888888888888,
              "#fdca26"
             ],
             [
              1,
              "#f0f921"
             ]
            ],
            "type": "contour"
           }
          ],
          "contourcarpet": [
           {
            "colorbar": {
             "outlinewidth": 0,
             "ticks": ""
            },
            "type": "contourcarpet"
           }
          ],
          "heatmap": [
           {
            "colorbar": {
             "outlinewidth": 0,
             "ticks": ""
            },
            "colorscale": [
             [
              0,
              "#0d0887"
             ],
             [
              0.1111111111111111,
              "#46039f"
             ],
             [
              0.2222222222222222,
              "#7201a8"
             ],
             [
              0.3333333333333333,
              "#9c179e"
             ],
             [
              0.4444444444444444,
              "#bd3786"
             ],
             [
              0.5555555555555556,
              "#d8576b"
             ],
             [
              0.6666666666666666,
              "#ed7953"
             ],
             [
              0.7777777777777778,
              "#fb9f3a"
             ],
             [
              0.8888888888888888,
              "#fdca26"
             ],
             [
              1,
              "#f0f921"
             ]
            ],
            "type": "heatmap"
           }
          ],
          "histogram": [
           {
            "marker": {
             "pattern": {
              "fillmode": "overlay",
              "size": 10,
              "solidity": 0.2
             }
            },
            "type": "histogram"
           }
          ],
          "histogram2d": [
           {
            "colorbar": {
             "outlinewidth": 0,
             "ticks": ""
            },
            "colorscale": [
             [
              0,
              "#0d0887"
             ],
             [
              0.1111111111111111,
              "#46039f"
             ],
             [
              0.2222222222222222,
              "#7201a8"
             ],
             [
              0.3333333333333333,
              "#9c179e"
             ],
             [
              0.4444444444444444,
              "#bd3786"
             ],
             [
              0.5555555555555556,
              "#d8576b"
             ],
             [
              0.6666666666666666,
              "#ed7953"
             ],
             [
              0.7777777777777778,
              "#fb9f3a"
             ],
             [
              0.8888888888888888,
              "#fdca26"
             ],
             [
              1,
              "#f0f921"
             ]
            ],
            "type": "histogram2d"
           }
          ],
          "histogram2dcontour": [
           {
            "colorbar": {
             "outlinewidth": 0,
             "ticks": ""
            },
            "colorscale": [
             [
              0,
              "#0d0887"
             ],
             [
              0.1111111111111111,
              "#46039f"
             ],
             [
              0.2222222222222222,
              "#7201a8"
             ],
             [
              0.3333333333333333,
              "#9c179e"
             ],
             [
              0.4444444444444444,
              "#bd3786"
             ],
             [
              0.5555555555555556,
              "#d8576b"
             ],
             [
              0.6666666666666666,
              "#ed7953"
             ],
             [
              0.7777777777777778,
              "#fb9f3a"
             ],
             [
              0.8888888888888888,
              "#fdca26"
             ],
             [
              1,
              "#f0f921"
             ]
            ],
            "type": "histogram2dcontour"
           }
          ],
          "mesh3d": [
           {
            "colorbar": {
             "outlinewidth": 0,
             "ticks": ""
            },
            "type": "mesh3d"
           }
          ],
          "parcoords": [
           {
            "line": {
             "colorbar": {
              "outlinewidth": 0,
              "ticks": ""
             }
            },
            "type": "parcoords"
           }
          ],
          "pie": [
           {
            "automargin": true,
            "type": "pie"
           }
          ],
          "scatter": [
           {
            "fillpattern": {
             "fillmode": "overlay",
             "size": 10,
             "solidity": 0.2
            },
            "type": "scatter"
           }
          ],
          "scatter3d": [
           {
            "line": {
             "colorbar": {
              "outlinewidth": 0,
              "ticks": ""
             }
            },
            "marker": {
             "colorbar": {
              "outlinewidth": 0,
              "ticks": ""
             }
            },
            "type": "scatter3d"
           }
          ],
          "scattercarpet": [
           {
            "marker": {
             "colorbar": {
              "outlinewidth": 0,
              "ticks": ""
             }
            },
            "type": "scattercarpet"
           }
          ],
          "scattergeo": [
           {
            "marker": {
             "colorbar": {
              "outlinewidth": 0,
              "ticks": ""
             }
            },
            "type": "scattergeo"
           }
          ],
          "scattergl": [
           {
            "marker": {
             "colorbar": {
              "outlinewidth": 0,
              "ticks": ""
             }
            },
            "type": "scattergl"
           }
          ],
          "scattermap": [
           {
            "marker": {
             "colorbar": {
              "outlinewidth": 0,
              "ticks": ""
             }
            },
            "type": "scattermap"
           }
          ],
          "scattermapbox": [
           {
            "marker": {
             "colorbar": {
              "outlinewidth": 0,
              "ticks": ""
             }
            },
            "type": "scattermapbox"
           }
          ],
          "scatterpolar": [
           {
            "marker": {
             "colorbar": {
              "outlinewidth": 0,
              "ticks": ""
             }
            },
            "type": "scatterpolar"
           }
          ],
          "scatterpolargl": [
           {
            "marker": {
             "colorbar": {
              "outlinewidth": 0,
              "ticks": ""
             }
            },
            "type": "scatterpolargl"
           }
          ],
          "scatterternary": [
           {
            "marker": {
             "colorbar": {
              "outlinewidth": 0,
              "ticks": ""
             }
            },
            "type": "scatterternary"
           }
          ],
          "surface": [
           {
            "colorbar": {
             "outlinewidth": 0,
             "ticks": ""
            },
            "colorscale": [
             [
              0,
              "#0d0887"
             ],
             [
              0.1111111111111111,
              "#46039f"
             ],
             [
              0.2222222222222222,
              "#7201a8"
             ],
             [
              0.3333333333333333,
              "#9c179e"
             ],
             [
              0.4444444444444444,
              "#bd3786"
             ],
             [
              0.5555555555555556,
              "#d8576b"
             ],
             [
              0.6666666666666666,
              "#ed7953"
             ],
             [
              0.7777777777777778,
              "#fb9f3a"
             ],
             [
              0.8888888888888888,
              "#fdca26"
             ],
             [
              1,
              "#f0f921"
             ]
            ],
            "type": "surface"
           }
          ],
          "table": [
           {
            "cells": {
             "fill": {
              "color": "#EBF0F8"
             },
             "line": {
              "color": "white"
             }
            },
            "header": {
             "fill": {
              "color": "#C8D4E3"
             },
             "line": {
              "color": "white"
             }
            },
            "type": "table"
           }
          ]
         },
         "layout": {
          "annotationdefaults": {
           "arrowcolor": "#2a3f5f",
           "arrowhead": 0,
           "arrowwidth": 1
          },
          "autotypenumbers": "strict",
          "coloraxis": {
           "colorbar": {
            "outlinewidth": 0,
            "ticks": ""
           }
          },
          "colorscale": {
           "diverging": [
            [
             0,
             "#8e0152"
            ],
            [
             0.1,
             "#c51b7d"
            ],
            [
             0.2,
             "#de77ae"
            ],
            [
             0.3,
             "#f1b6da"
            ],
            [
             0.4,
             "#fde0ef"
            ],
            [
             0.5,
             "#f7f7f7"
            ],
            [
             0.6,
             "#e6f5d0"
            ],
            [
             0.7,
             "#b8e186"
            ],
            [
             0.8,
             "#7fbc41"
            ],
            [
             0.9,
             "#4d9221"
            ],
            [
             1,
             "#276419"
            ]
           ],
           "sequential": [
            [
             0,
             "#0d0887"
            ],
            [
             0.1111111111111111,
             "#46039f"
            ],
            [
             0.2222222222222222,
             "#7201a8"
            ],
            [
             0.3333333333333333,
             "#9c179e"
            ],
            [
             0.4444444444444444,
             "#bd3786"
            ],
            [
             0.5555555555555556,
             "#d8576b"
            ],
            [
             0.6666666666666666,
             "#ed7953"
            ],
            [
             0.7777777777777778,
             "#fb9f3a"
            ],
            [
             0.8888888888888888,
             "#fdca26"
            ],
            [
             1,
             "#f0f921"
            ]
           ],
           "sequentialminus": [
            [
             0,
             "#0d0887"
            ],
            [
             0.1111111111111111,
             "#46039f"
            ],
            [
             0.2222222222222222,
             "#7201a8"
            ],
            [
             0.3333333333333333,
             "#9c179e"
            ],
            [
             0.4444444444444444,
             "#bd3786"
            ],
            [
             0.5555555555555556,
             "#d8576b"
            ],
            [
             0.6666666666666666,
             "#ed7953"
            ],
            [
             0.7777777777777778,
             "#fb9f3a"
            ],
            [
             0.8888888888888888,
             "#fdca26"
            ],
            [
             1,
             "#f0f921"
            ]
           ]
          },
          "colorway": [
           "#636efa",
           "#EF553B",
           "#00cc96",
           "#ab63fa",
           "#FFA15A",
           "#19d3f3",
           "#FF6692",
           "#B6E880",
           "#FF97FF",
           "#FECB52"
          ],
          "font": {
           "color": "#2a3f5f"
          },
          "geo": {
           "bgcolor": "white",
           "lakecolor": "white",
           "landcolor": "#E5ECF6",
           "showlakes": true,
           "showland": true,
           "subunitcolor": "white"
          },
          "hoverlabel": {
           "align": "left"
          },
          "hovermode": "closest",
          "mapbox": {
           "style": "light"
          },
          "paper_bgcolor": "white",
          "plot_bgcolor": "#E5ECF6",
          "polar": {
           "angularaxis": {
            "gridcolor": "white",
            "linecolor": "white",
            "ticks": ""
           },
           "bgcolor": "#E5ECF6",
           "radialaxis": {
            "gridcolor": "white",
            "linecolor": "white",
            "ticks": ""
           }
          },
          "scene": {
           "xaxis": {
            "backgroundcolor": "#E5ECF6",
            "gridcolor": "white",
            "gridwidth": 2,
            "linecolor": "white",
            "showbackground": true,
            "ticks": "",
            "zerolinecolor": "white"
           },
           "yaxis": {
            "backgroundcolor": "#E5ECF6",
            "gridcolor": "white",
            "gridwidth": 2,
            "linecolor": "white",
            "showbackground": true,
            "ticks": "",
            "zerolinecolor": "white"
           },
           "zaxis": {
            "backgroundcolor": "#E5ECF6",
            "gridcolor": "white",
            "gridwidth": 2,
            "linecolor": "white",
            "showbackground": true,
            "ticks": "",
            "zerolinecolor": "white"
           }
          },
          "shapedefaults": {
           "line": {
            "color": "#2a3f5f"
           }
          },
          "ternary": {
           "aaxis": {
            "gridcolor": "white",
            "linecolor": "white",
            "ticks": ""
           },
           "baxis": {
            "gridcolor": "white",
            "linecolor": "white",
            "ticks": ""
           },
           "bgcolor": "#E5ECF6",
           "caxis": {
            "gridcolor": "white",
            "linecolor": "white",
            "ticks": ""
           }
          },
          "title": {
           "x": 0.05
          },
          "xaxis": {
           "automargin": true,
           "gridcolor": "white",
           "linecolor": "white",
           "ticks": "",
           "title": {
            "standoff": 15
           },
           "zerolinecolor": "white",
           "zerolinewidth": 2
          },
          "yaxis": {
           "automargin": true,
           "gridcolor": "white",
           "linecolor": "white",
           "ticks": "",
           "title": {
            "standoff": 15
           },
           "zerolinecolor": "white",
           "zerolinewidth": 2
          }
         }
        },
        "title": {
         "text": "Percentage of Messages per Category and Word Count Bin"
        },
        "xaxis": {
         "anchor": "y",
         "domain": [
          0,
          1
         ],
         "title": {
          "text": "category"
         }
        },
        "yaxis": {
         "anchor": "x",
         "domain": [
          0,
          1
         ],
         "title": {
          "text": "percentage"
         }
        }
       }
      }
     },
     "metadata": {},
     "output_type": "display_data"
    }
   ],
   "source": [
    "# Counts of word count bins per categories\n",
    "# Gets the counts per bin and category\n",
    "cat_wordcount_counts = df[['word_count_bin', *msg_category_cols]].groupby(['word_count_bin'], observed=False).sum().reset_index()\n",
    "# Restructures the dataframe so that the category columns become one 'category' column\n",
    "count_by_category_and_bin = pd.melt( cat_wordcount_counts, id_vars=['word_count_bin'], value_vars=msg_category_cols, var_name='category', value_name='count' )\n",
    "# Gets the counts per category so that we can calculate the percentage later\n",
    "total_counts = count_by_category_and_bin.groupby('category', observed=False)['count'].sum().reset_index().rename(columns={'count': 'total_count'})\n",
    "# Merges the total counts per category back into the main dataframe\n",
    "count_by_category_and_bin = count_by_category_and_bin.merge(total_counts, on='category')\n",
    "# Calculates the percentage of messages per category and bin\n",
    "count_by_category_and_bin['percentage'] = count_by_category_and_bin['count'] / count_by_category_and_bin['total_count'] * 100\n",
    "# Rounds the percentage to 2 decimal places for better display\n",
    "count_by_category_and_bin['percentage'] = count_by_category_and_bin['percentage'].apply( lambda x: round(x, 2) )\n",
    "# Sorts the dataframe by category and word count bin\n",
    "count_by_category_and_bin.sort_values(by=['category', 'word_count_bin'], ascending=[True, False], inplace=True)\n",
    "\n",
    "# Graph 3: Count of messages per category and word count bin\n",
    "percentage_per_bin_graph = px.bar(\n",
    "    data_frame=count_by_category_and_bin, \n",
    "    x='category', \n",
    "    y='percentage', \n",
    "    title='Percentage of Messages per Category and Word Count Bin',\n",
    "    labels={\n",
    "        'x': 'category',\n",
    "        'y': 'percentage'\n",
    "    },\n",
    "    color='word_count_bin', \n",
    "    barmode='stack'\n",
    ")\n",
    "plotly.io.from_json( get_graph_json(percentage_per_bin_graph) )"
   ]
  },
  {
   "cell_type": "markdown",
   "metadata": {},
   "source": []
  },
  {
   "cell_type": "code",
   "execution_count": null,
   "metadata": {},
   "outputs": [],
   "source": []
  }
 ],
 "metadata": {
  "kernelspec": {
   "display_name": "new_base",
   "language": "python",
   "name": "python3"
  },
  "language_info": {
   "codemirror_mode": {
    "name": "ipython",
    "version": 3
   },
   "file_extension": ".py",
   "mimetype": "text/x-python",
   "name": "python",
   "nbconvert_exporter": "python",
   "pygments_lexer": "ipython3",
   "version": "3.12.8"
  }
 },
 "nbformat": 4,
 "nbformat_minor": 2
}
