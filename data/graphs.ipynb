{
 "cells": [
  {
   "cell_type": "code",
   "execution_count": 1,
   "metadata": {},
   "outputs": [],
   "source": [
    "import pandas as pd\n",
    "from sqlalchemy import create_engine\n",
    "\n",
    "import plotly\n",
    "import plotly.graph_objs as go\n",
    "\n",
    "import json\n",
    "\n",
    "from nltk.stem import WordNetLemmatizer\n",
    "from nltk.tokenize import word_tokenize\n",
    "\n",
    "import math"
   ]
  },
  {
   "cell_type": "code",
   "execution_count": 2,
   "metadata": {},
   "outputs": [],
   "source": [
    "database_filepath = 'DisasterResponse.db'"
   ]
  },
  {
   "cell_type": "code",
   "execution_count": 3,
   "metadata": {},
   "outputs": [],
   "source": [
    "# Create the engine\n",
    "engine = create_engine(f\"sqlite:///{database_filepath}\")\n",
    "# Load the data in a pandas Dataframe\n",
    "df = pd.read_sql_table(\"disaster_messages\", engine)"
   ]
  },
  {
   "cell_type": "code",
   "execution_count": 4,
   "metadata": {},
   "outputs": [],
   "source": [
    "def get_graph_json(graph):\n",
    "    return json.dumps(graph, cls=plotly.utils.PlotlyJSONEncoder)"
   ]
  },
  {
   "cell_type": "markdown",
   "metadata": {},
   "source": [
    "# Example already in script"
   ]
  },
  {
   "cell_type": "code",
   "execution_count": 5,
   "metadata": {},
   "outputs": [],
   "source": [
    "# genre_counts = df.groupby('genre').count()['message']\n",
    "# genre_names = list(genre_counts.index)\n",
    "\n",
    "# genre_counts_graph = {\n",
    "#     'data': [\n",
    "#         go.Bar(\n",
    "#             x=genre_names,\n",
    "#             y=genre_counts\n",
    "#         )\n",
    "#     ],\n",
    "\n",
    "#     'layout': {\n",
    "#         'title': {\n",
    "#             'text': 'Distribution of Message Genres'\n",
    "#         },\n",
    "#         'yaxis': {\n",
    "#             'title': {\n",
    "#                 'text': \"Count\"\n",
    "#             }\n",
    "#         },\n",
    "#         'xaxis': {\n",
    "#             'title': {\n",
    "#                 'text': \"Genre\"\n",
    "#             }\n",
    "#         }\n",
    "#     }\n",
    "# }\n",
    "\n",
    "# plotly.io.from_json( get_graph_json(genre_counts_graph) )"
   ]
  },
  {
   "cell_type": "markdown",
   "metadata": {},
   "source": [
    "# Counts per Message Category"
   ]
  },
  {
   "cell_type": "code",
   "execution_count": 6,
   "metadata": {},
   "outputs": [],
   "source": [
    "# msg_categories = df.columns[4:]\n",
    "\n",
    "# msg_category_cols = df.columns[4:]\n",
    "# cat_count = df[msg_category_cols].sum().sort_values(ascending=False).head(10)\n",
    "# msg_category_display = [ cn.replace(\"_\", \" \").capitalize() for cn in cat_count.index ]\n",
    "\n",
    "# cat_counts_graph = {\n",
    "#     'data': [\n",
    "#         go.Bar(\n",
    "#             x=msg_category_display,\n",
    "#             y=cat_count\n",
    "#         )\n",
    "#     ],\n",
    "\n",
    "#     'layout': {\n",
    "#         'title': {\n",
    "#             'text': 'Count of Messages by Category'\n",
    "#         },\n",
    "#         'yaxis': {\n",
    "#             'title': {\n",
    "#                 'text': \"Count\"\n",
    "#             }\n",
    "#         },\n",
    "#         'xaxis': {\n",
    "#             'title': {\n",
    "#                 'text': \"Message Category\"\n",
    "#             }\n",
    "#         }\n",
    "#     }\n",
    "# }\n",
    "\n",
    "# plotly.io.from_json( get_graph_json(cat_counts_graph) )"
   ]
  },
  {
   "cell_type": "markdown",
   "metadata": {},
   "source": [
    "# Counts of translated message - Bar"
   ]
  },
  {
   "cell_type": "code",
   "execution_count": 7,
   "metadata": {},
   "outputs": [],
   "source": [
    "# # df['diff_lang'] = df['message'] != df['original']\n",
    "# df['diff_lang'] = df.apply( lambda row: 'Translated' if row['message'] != row['original'] else \"English\", axis=1 )\n",
    "# diff_lang_count = df.groupby('diff_lang').count()['message'].reset_index().rename(columns={'message': 'count'})\n",
    "\n",
    "# display(diff_lang_count)\n",
    "\n",
    "# diff_lang_graph = {\n",
    "#     'data': [\n",
    "#         go.Bar(\n",
    "#             x=diff_lang_count['diff_lang'],\n",
    "#             y=diff_lang_count['count']\n",
    "#         )\n",
    "#     ],\n",
    "\n",
    "#     'layout': {\n",
    "#         'title': {\n",
    "#             'text': 'Count of Messages Not in English'\n",
    "#         },\n",
    "#         'yaxis': {\n",
    "#             'title': {\n",
    "#                 'text': \"Count\"\n",
    "#             }\n",
    "#         },\n",
    "#         'xaxis': {\n",
    "#             'title': {\n",
    "#                 'text': \"Translation\"\n",
    "#             }\n",
    "#         }\n",
    "#     }\n",
    "# }\n",
    "\n",
    "# plotly.io.from_json( get_graph_json(diff_lang_graph) )"
   ]
  },
  {
   "cell_type": "markdown",
   "metadata": {},
   "source": [
    "# Count of translated messages - Pie"
   ]
  },
  {
   "cell_type": "code",
   "execution_count": 8,
   "metadata": {},
   "outputs": [],
   "source": [
    "# df['diff_lang'] = df.apply( lambda row: 'Translated' if row['message'] != row['original'] else \"English\", axis=1 )\n",
    "# diff_lang_count = df.groupby('diff_lang').count()['message'].reset_index().rename(columns={'message': 'count'})\n",
    "\n",
    "# diff_lang_graph = {\n",
    "#     'data': [\n",
    "#         go.Pie(\n",
    "#             labels=diff_lang_count['diff_lang'], values=diff_lang_count['count']\n",
    "#         )\n",
    "#     ],\n",
    "\n",
    "#     'layout': {\n",
    "#         'title': {\n",
    "#             'text': 'Count of Messages Not in English'\n",
    "#         }\n",
    "#     }\n",
    "# }\n",
    "\n",
    "# plotly.io.from_json( get_graph_json(diff_lang_graph) )"
   ]
  },
  {
   "cell_type": "markdown",
   "metadata": {},
   "source": [
    "# Counts of words per message - Pie chart"
   ]
  },
  {
   "cell_type": "code",
   "execution_count": 9,
   "metadata": {},
   "outputs": [],
   "source": [
    "def tokenize(text):\n",
    "    tokens = word_tokenize(text)\n",
    "    lemmatizer = WordNetLemmatizer()\n",
    "\n",
    "    clean_tokens = []\n",
    "    for tok in tokens:\n",
    "        clean_tok = lemmatizer.lemmatize(tok).lower().strip()\n",
    "        clean_tokens.append(clean_tok)\n",
    "\n",
    "    return clean_tokens"
   ]
  },
  {
   "cell_type": "code",
   "execution_count": 10,
   "metadata": {},
   "outputs": [],
   "source": [
    "# word_count = df['message'].apply( lambda msg: len(tokenize(msg)) ).rename('word_count').reset_index(drop=True)\n",
    "# word_count_bins = pd.cut(word_count, bins=[0, 10, 20, 30, 40, 50, 60, 70, 80, 90, 100, float('inf')], labels=['0-10', '10-20', '20-30', '30-40', '40-50', '50-60', '60-70', '70-80', '80-90', '90-100', '100+'])\n",
    "# count_per_bin = word_count_bins.value_counts().sort_index().reset_index().rename(columns={'word_count': 'bins'})\n",
    "# display( count_per_bin )\n",
    "\n",
    "# word_count_graph = {\n",
    "#     'data': [\n",
    "#         go.Pie(\n",
    "#             labels=count_per_bin['bins'], values=count_per_bin['count'], sort=False\n",
    "#         )\n",
    "#     ],\n",
    "\n",
    "#     'layout': {\n",
    "#         'title': {\n",
    "#             'text': 'Counts of Message Lengths'\n",
    "#         }\n",
    "#     }\n",
    "# }\n",
    "\n",
    "# plotly.io.from_json( get_graph_json(word_count_graph) )"
   ]
  },
  {
   "cell_type": "markdown",
   "metadata": {},
   "source": [
    "# Counts of words per message - Histogram"
   ]
  },
  {
   "cell_type": "code",
   "execution_count": 11,
   "metadata": {},
   "outputs": [],
   "source": [
    "# import plotly.figure_factory as ff\n",
    "\n",
    "# word_count = df['message'].apply( lambda msg: len(tokenize(msg)) ).rename('word_count').reset_index(drop=True)\n",
    "# word_count_u100 = word_count[word_count < 100]\n",
    "# word_count_o100 = word_count[word_count >= 100]\n",
    "\n",
    "# fig1 = ff.create_distplot([word_count_u100], ['Word Count (under 100 words)'], bin_size=1)\n",
    "# fig2 = ff.create_distplot([word_count_o100], ['Word Count (over 100 words)'], bin_size=100)\n",
    "# fig1.show()\n",
    "# fig2.show()"
   ]
  },
  {
   "cell_type": "markdown",
   "metadata": {},
   "source": [
    "# Message Categories by Count by Word Count"
   ]
  },
  {
   "cell_type": "code",
   "execution_count": null,
   "metadata": {},
   "outputs": [
    {
     "name": "stderr",
     "output_type": "stream",
     "text": [
      "/var/folders/_c/rhw8y9f15l75mmrds0nnkn340000gp/T/ipykernel_22372/2006729108.py:15: FutureWarning:\n",
      "\n",
      "The default of observed=False is deprecated and will be changed to True in a future version of pandas. Pass observed=False to retain current behavior or observed=True to adopt the future default and silence this warning.\n",
      "\n"
     ]
    },
    {
     "ename": "ValueError",
     "evalue": "Invalid property specified for object of type plotly.graph_objs.Bar: 'color'\n\nDid you mean \"zorder\"?\n\n    Valid properties:\n        alignmentgroup\n            Set several traces linked to the same position axis or\n            matching axes to the same alignmentgroup. This controls\n            whether bars compute their positional range dependently\n            or independently.\n        base\n            Sets where the bar base is drawn (in position axis\n            units). In \"stack\" or \"relative\" barmode, traces that\n            set \"base\" will be excluded and drawn in \"overlay\" mode\n            instead.\n        basesrc\n            Sets the source reference on Chart Studio Cloud for\n            `base`.\n        cliponaxis\n            Determines whether the text nodes are clipped about the\n            subplot axes. To show the text nodes above axis lines\n            and tick labels, make sure to set `xaxis.layer` and\n            `yaxis.layer` to *below traces*.\n        constraintext\n            Constrain the size of text inside or outside a bar to\n            be no larger than the bar itself.\n        customdata\n            Assigns extra data each datum. This may be useful when\n            listening to hover, click and selection events. Note\n            that, \"scatter\" traces also appends customdata items in\n            the markers DOM elements\n        customdatasrc\n            Sets the source reference on Chart Studio Cloud for\n            `customdata`.\n        dx\n            Sets the x coordinate step. See `x0` for more info.\n        dy\n            Sets the y coordinate step. See `y0` for more info.\n        error_x\n            :class:`plotly.graph_objects.bar.ErrorX` instance or\n            dict with compatible properties\n        error_y\n            :class:`plotly.graph_objects.bar.ErrorY` instance or\n            dict with compatible properties\n        hoverinfo\n            Determines which trace information appear on hover. If\n            `none` or `skip` are set, no information is displayed\n            upon hovering. But, if `none` is set, click and hover\n            events are still fired.\n        hoverinfosrc\n            Sets the source reference on Chart Studio Cloud for\n            `hoverinfo`.\n        hoverlabel\n            :class:`plotly.graph_objects.bar.Hoverlabel` instance\n            or dict with compatible properties\n        hovertemplate\n            Template string used for rendering the information that\n            appear on hover box. Note that this will override\n            `hoverinfo`. Variables are inserted using %{variable},\n            for example \"y: %{y}\" as well as %{xother}, {%_xother},\n            {%_xother_}, {%xother_}. When showing info for several\n            points, \"xother\" will be added to those with different\n            x positions from the first point. An underscore before\n            or after \"(x|y)other\" will add a space on that side,\n            only when this field is shown. Numbers are formatted\n            using d3-format's syntax %{variable:d3-format}, for\n            example \"Price: %{y:$.2f}\".\n            https://github.com/d3/d3-format/tree/v1.4.5#d3-format\n            for details on the formatting syntax. Dates are\n            formatted using d3-time-format's syntax\n            %{variable|d3-time-format}, for example \"Day:\n            %{2019-01-01|%A}\". https://github.com/d3/d3-time-\n            format/tree/v2.2.3#locale_format for details on the\n            date formatting syntax. The variables available in\n            `hovertemplate` are the ones emitted as event data\n            described at this link\n            https://plotly.com/javascript/plotlyjs-events/#event-\n            data. Additionally, every attributes that can be\n            specified per-point (the ones that are `arrayOk: true`)\n            are available. Finally, the template string has access\n            to variables `value` and `label`. Anything contained in\n            tag `<extra>` is displayed in the secondary box, for\n            example \"<extra>{fullData.name}</extra>\". To hide the\n            secondary box completely, use an empty tag\n            `<extra></extra>`.\n        hovertemplatesrc\n            Sets the source reference on Chart Studio Cloud for\n            `hovertemplate`.\n        hovertext\n            Sets hover text elements associated with each (x,y)\n            pair. If a single string, the same string appears over\n            all the data points. If an array of string, the items\n            are mapped in order to the this trace's (x,y)\n            coordinates. To be seen, trace `hoverinfo` must contain\n            a \"text\" flag.\n        hovertextsrc\n            Sets the source reference on Chart Studio Cloud for\n            `hovertext`.\n        ids\n            Assigns id labels to each datum. These ids for object\n            constancy of data points during animation. Should be an\n            array of strings, not numbers or any other type.\n        idssrc\n            Sets the source reference on Chart Studio Cloud for\n            `ids`.\n        insidetextanchor\n            Determines if texts are kept at center or start/end\n            points in `textposition` \"inside\" mode.\n        insidetextfont\n            Sets the font used for `text` lying inside the bar.\n        legend\n            Sets the reference to a legend to show this trace in.\n            References to these legends are \"legend\", \"legend2\",\n            \"legend3\", etc. Settings for these legends are set in\n            the layout, under `layout.legend`, `layout.legend2`,\n            etc.\n        legendgroup\n            Sets the legend group for this trace. Traces and shapes\n            part of the same legend group hide/show at the same\n            time when toggling legend items.\n        legendgrouptitle\n            :class:`plotly.graph_objects.bar.Legendgrouptitle`\n            instance or dict with compatible properties\n        legendrank\n            Sets the legend rank for this trace. Items and groups\n            with smaller ranks are presented on top/left side while\n            with \"reversed\" `legend.traceorder` they are on\n            bottom/right side. The default legendrank is 1000, so\n            that you can use ranks less than 1000 to place certain\n            items before all unranked items, and ranks greater than\n            1000 to go after all unranked items. When having\n            unranked or equal rank items shapes would be displayed\n            after traces i.e. according to their order in data and\n            layout.\n        legendwidth\n            Sets the width (in px or fraction) of the legend for\n            this trace.\n        marker\n            :class:`plotly.graph_objects.bar.Marker` instance or\n            dict with compatible properties\n        meta\n            Assigns extra meta information associated with this\n            trace that can be used in various text attributes.\n            Attributes such as trace `name`, graph, axis and\n            colorbar `title.text`, annotation `text`\n            `rangeselector`, `updatemenues` and `sliders` `label`\n            text all support `meta`. To access the trace `meta`\n            values in an attribute in the same trace, simply use\n            `%{meta[i]}` where `i` is the index or key of the\n            `meta` item in question. To access trace `meta` in\n            layout attributes, use `%{data[n[.meta[i]}` where `i`\n            is the index or key of the `meta` and `n` is the trace\n            index.\n        metasrc\n            Sets the source reference on Chart Studio Cloud for\n            `meta`.\n        name\n            Sets the trace name. The trace name appears as the\n            legend item and on hover.\n        offset\n            Shifts the position where the bar is drawn (in position\n            axis units). In \"group\" barmode, traces that set\n            \"offset\" will be excluded and drawn in \"overlay\" mode\n            instead.\n        offsetgroup\n            Set several traces linked to the same position axis or\n            matching axes to the same offsetgroup where bars of the\n            same position coordinate will line up.\n        offsetsrc\n            Sets the source reference on Chart Studio Cloud for\n            `offset`.\n        opacity\n            Sets the opacity of the trace.\n        orientation\n            Sets the orientation of the bars. With \"v\" (\"h\"), the\n            value of the each bar spans along the vertical\n            (horizontal).\n        outsidetextfont\n            Sets the font used for `text` lying outside the bar.\n        selected\n            :class:`plotly.graph_objects.bar.Selected` instance or\n            dict with compatible properties\n        selectedpoints\n            Array containing integer indices of selected points.\n            Has an effect only for traces that support selections.\n            Note that an empty array means an empty selection where\n            the `unselected` are turned on for all points, whereas,\n            any other non-array values means no selection all where\n            the `selected` and `unselected` styles have no effect.\n        showlegend\n            Determines whether or not an item corresponding to this\n            trace is shown in the legend.\n        stream\n            :class:`plotly.graph_objects.bar.Stream` instance or\n            dict with compatible properties\n        text\n            Sets text elements associated with each (x,y) pair. If\n            a single string, the same string appears over all the\n            data points. If an array of string, the items are\n            mapped in order to the this trace's (x,y) coordinates.\n            If trace `hoverinfo` contains a \"text\" flag and\n            \"hovertext\" is not set, these elements will be seen in\n            the hover labels.\n        textangle\n            Sets the angle of the tick labels with respect to the\n            bar. For example, a `tickangle` of -90 draws the tick\n            labels vertically. With \"auto\" the texts may\n            automatically be rotated to fit with the maximum size\n            in bars.\n        textfont\n            Sets the font used for `text`.\n        textposition\n            Specifies the location of the `text`. \"inside\"\n            positions `text` inside, next to the bar end (rotated\n            and scaled if needed). \"outside\" positions `text`\n            outside, next to the bar end (scaled if needed), unless\n            there is another bar stacked on this one, then the text\n            gets pushed inside. \"auto\" tries to position `text`\n            inside the bar, but if the bar is too small and no bar\n            is stacked on this one the text is moved outside. If\n            \"none\", no text appears.\n        textpositionsrc\n            Sets the source reference on Chart Studio Cloud for\n            `textposition`.\n        textsrc\n            Sets the source reference on Chart Studio Cloud for\n            `text`.\n        texttemplate\n            Template string used for rendering the information text\n            that appear on points. Note that this will override\n            `textinfo`. Variables are inserted using %{variable},\n            for example \"y: %{y}\". Numbers are formatted using\n            d3-format's syntax %{variable:d3-format}, for example\n            \"Price: %{y:$.2f}\".\n            https://github.com/d3/d3-format/tree/v1.4.5#d3-format\n            for details on the formatting syntax. Dates are\n            formatted using d3-time-format's syntax\n            %{variable|d3-time-format}, for example \"Day:\n            %{2019-01-01|%A}\". https://github.com/d3/d3-time-\n            format/tree/v2.2.3#locale_format for details on the\n            date formatting syntax. Every attributes that can be\n            specified per-point (the ones that are `arrayOk: true`)\n            are available. Finally, the template string has access\n            to variables `value` and `label`.\n        texttemplatesrc\n            Sets the source reference on Chart Studio Cloud for\n            `texttemplate`.\n        uid\n            Assign an id to this trace, Use this to provide object\n            constancy between traces during animations and\n            transitions.\n        uirevision\n            Controls persistence of some user-driven changes to the\n            trace: `constraintrange` in `parcoords` traces, as well\n            as some `editable: true` modifications such as `name`\n            and `colorbar.title`. Defaults to `layout.uirevision`.\n            Note that other user-driven trace attribute changes are\n            controlled by `layout` attributes: `trace.visible` is\n            controlled by `layout.legend.uirevision`,\n            `selectedpoints` is controlled by\n            `layout.selectionrevision`, and `colorbar.(x|y)`\n            (accessible with `config: {editable: true}`) is\n            controlled by `layout.editrevision`. Trace changes are\n            tracked by `uid`, which only falls back on trace index\n            if no `uid` is provided. So if your app can add/remove\n            traces before the end of the `data` array, such that\n            the same trace has a different index, you can still\n            preserve user-driven changes if you give each trace a\n            `uid` that stays with it as it moves.\n        unselected\n            :class:`plotly.graph_objects.bar.Unselected` instance\n            or dict with compatible properties\n        visible\n            Determines whether or not this trace is visible. If\n            \"legendonly\", the trace is not drawn, but can appear as\n            a legend item (provided that the legend itself is\n            visible).\n        width\n            Sets the bar width (in position axis units).\n        widthsrc\n            Sets the source reference on Chart Studio Cloud for\n            `width`.\n        x\n            Sets the x coordinates.\n        x0\n            Alternate to `x`. Builds a linear space of x\n            coordinates. Use with `dx` where `x0` is the starting\n            coordinate and `dx` the step.\n        xaxis\n            Sets a reference between this trace's x coordinates and\n            a 2D cartesian x axis. If \"x\" (the default value), the\n            x coordinates refer to `layout.xaxis`. If \"x2\", the x\n            coordinates refer to `layout.xaxis2`, and so on.\n        xcalendar\n            Sets the calendar system to use with `x` date data.\n        xhoverformat\n            Sets the hover text formatting rulefor `x`  using d3\n            formatting mini-languages which are very similar to\n            those in Python. For numbers, see:\n            https://github.com/d3/d3-format/tree/v1.4.5#d3-format.\n            And for dates see: https://github.com/d3/d3-time-\n            format/tree/v2.2.3#locale_format. We add two items to\n            d3's date formatter: \"%h\" for half of the year as a\n            decimal number as well as \"%{n}f\" for fractional\n            seconds with n digits. For example, *2016-10-13\n            09:15:23.456* with tickformat \"%H~%M~%S.%2f\" would\n            display *09~15~23.46*By default the values are\n            formatted using `xaxis.hoverformat`.\n        xperiod\n            Only relevant when the axis `type` is \"date\". Sets the\n            period positioning in milliseconds or \"M<n>\" on the x\n            axis. Special values in the form of \"M<n>\" could be\n            used to declare the number of months. In this case `n`\n            must be a positive integer.\n        xperiod0\n            Only relevant when the axis `type` is \"date\". Sets the\n            base for period positioning in milliseconds or date\n            string on the x0 axis. When `x0period` is round number\n            of weeks, the `x0period0` by default would be on a\n            Sunday i.e. 2000-01-02, otherwise it would be at\n            2000-01-01.\n        xperiodalignment\n            Only relevant when the axis `type` is \"date\". Sets the\n            alignment of data points on the x axis.\n        xsrc\n            Sets the source reference on Chart Studio Cloud for\n            `x`.\n        y\n            Sets the y coordinates.\n        y0\n            Alternate to `y`. Builds a linear space of y\n            coordinates. Use with `dy` where `y0` is the starting\n            coordinate and `dy` the step.\n        yaxis\n            Sets a reference between this trace's y coordinates and\n            a 2D cartesian y axis. If \"y\" (the default value), the\n            y coordinates refer to `layout.yaxis`. If \"y2\", the y\n            coordinates refer to `layout.yaxis2`, and so on.\n        ycalendar\n            Sets the calendar system to use with `y` date data.\n        yhoverformat\n            Sets the hover text formatting rulefor `y`  using d3\n            formatting mini-languages which are very similar to\n            those in Python. For numbers, see:\n            https://github.com/d3/d3-format/tree/v1.4.5#d3-format.\n            And for dates see: https://github.com/d3/d3-time-\n            format/tree/v2.2.3#locale_format. We add two items to\n            d3's date formatter: \"%h\" for half of the year as a\n            decimal number as well as \"%{n}f\" for fractional\n            seconds with n digits. For example, *2016-10-13\n            09:15:23.456* with tickformat \"%H~%M~%S.%2f\" would\n            display *09~15~23.46*By default the values are\n            formatted using `yaxis.hoverformat`.\n        yperiod\n            Only relevant when the axis `type` is \"date\". Sets the\n            period positioning in milliseconds or \"M<n>\" on the y\n            axis. Special values in the form of \"M<n>\" could be\n            used to declare the number of months. In this case `n`\n            must be a positive integer.\n        yperiod0\n            Only relevant when the axis `type` is \"date\". Sets the\n            base for period positioning in milliseconds or date\n            string on the y0 axis. When `y0period` is round number\n            of weeks, the `y0period0` by default would be on a\n            Sunday i.e. 2000-01-02, otherwise it would be at\n            2000-01-01.\n        yperiodalignment\n            Only relevant when the axis `type` is \"date\". Sets the\n            alignment of data points on the y axis.\n        ysrc\n            Sets the source reference on Chart Studio Cloud for\n            `y`.\n        zorder\n            Sets the layer on which this trace is displayed,\n            relative to other SVG traces on the same subplot. SVG\n            traces with higher `zorder` appear in front of those\n            with lower `zorder`.\n        \nDid you mean \"zorder\"?\n\nBad property path:\ncolor\n^^^^^",
     "output_type": "error",
     "traceback": [
      "\u001b[0;31m---------------------------------------------------------------------------\u001b[0m",
      "\u001b[0;31mValueError\u001b[0m                                Traceback (most recent call last)",
      "Cell \u001b[0;32mIn[34], line 91\u001b[0m\n\u001b[1;32m     28\u001b[0m fig \u001b[38;5;241m=\u001b[39m go\u001b[38;5;241m.\u001b[39mFigure()\n\u001b[1;32m     30\u001b[0m \u001b[38;5;66;03m## Good at showing the count of messages by category and word count, but the categories are the same color\u001b[39;00m\n\u001b[1;32m     31\u001b[0m \u001b[38;5;66;03m# fig.add_trace(\u001b[39;00m\n\u001b[1;32m     32\u001b[0m \u001b[38;5;66;03m#     go.Scatter(\u001b[39;00m\n\u001b[0;32m   (...)\u001b[0m\n\u001b[1;32m     86\u001b[0m \n\u001b[1;32m     87\u001b[0m \u001b[38;5;66;03m# fig.show()\u001b[39;00m\n\u001b[1;32m     89\u001b[0m percentage_per_bin_graph \u001b[38;5;241m=\u001b[39m {\n\u001b[1;32m     90\u001b[0m     \u001b[38;5;124m'\u001b[39m\u001b[38;5;124mdata\u001b[39m\u001b[38;5;124m'\u001b[39m: [\n\u001b[0;32m---> 91\u001b[0m         \u001b[43mgo\u001b[49m\u001b[38;5;241;43m.\u001b[39;49m\u001b[43mBar\u001b[49m\u001b[43m(\u001b[49m\n\u001b[1;32m     92\u001b[0m \u001b[43m            \u001b[49m\u001b[43mx\u001b[49m\u001b[38;5;241;43m=\u001b[39;49m\u001b[43mcount_by_category_and_bin\u001b[49m\u001b[43m[\u001b[49m\u001b[38;5;124;43m'\u001b[39;49m\u001b[38;5;124;43mcategory\u001b[39;49m\u001b[38;5;124;43m'\u001b[39;49m\u001b[43m]\u001b[49m\u001b[43m,\u001b[49m\n\u001b[1;32m     93\u001b[0m \u001b[43m            \u001b[49m\u001b[43my\u001b[49m\u001b[38;5;241;43m=\u001b[39;49m\u001b[43mcount_by_category_and_bin\u001b[49m\u001b[43m[\u001b[49m\u001b[38;5;124;43m'\u001b[39;49m\u001b[38;5;124;43mpercentage\u001b[39;49m\u001b[38;5;124;43m'\u001b[39;49m\u001b[43m]\u001b[49m\u001b[43m,\u001b[49m\n\u001b[1;32m     94\u001b[0m \u001b[43m            \u001b[49m\u001b[43mcolor\u001b[49m\u001b[38;5;241;43m=\u001b[39;49m\u001b[43mcount_by_category_and_bin\u001b[49m\u001b[43m[\u001b[49m\u001b[38;5;124;43m'\u001b[39;49m\u001b[38;5;124;43mword_count_bins\u001b[39;49m\u001b[38;5;124;43m'\u001b[39;49m\u001b[43m]\u001b[49m\u001b[43m,\u001b[49m\n\u001b[1;32m     95\u001b[0m \u001b[43m            \u001b[49m\u001b[43mtext\u001b[49m\u001b[38;5;241;43m=\u001b[39;49m\u001b[43mcount_by_category_and_bin\u001b[49m\u001b[43m[\u001b[49m\u001b[38;5;124;43m'\u001b[39;49m\u001b[38;5;124;43mpercentage\u001b[39;49m\u001b[38;5;124;43m'\u001b[39;49m\u001b[43m]\u001b[49m\n\u001b[1;32m     96\u001b[0m \u001b[43m        \u001b[49m\u001b[43m)\u001b[49m\n\u001b[1;32m     97\u001b[0m     ],\n\u001b[1;32m     98\u001b[0m \n\u001b[1;32m     99\u001b[0m     \u001b[38;5;124m'\u001b[39m\u001b[38;5;124mlayout\u001b[39m\u001b[38;5;124m'\u001b[39m: {\n\u001b[1;32m    100\u001b[0m         \u001b[38;5;124m'\u001b[39m\u001b[38;5;124mtitle\u001b[39m\u001b[38;5;124m'\u001b[39m: {\n\u001b[1;32m    101\u001b[0m             \u001b[38;5;124m'\u001b[39m\u001b[38;5;124mtext\u001b[39m\u001b[38;5;124m'\u001b[39m: \u001b[38;5;124m'\u001b[39m\u001b[38;5;124mPercentage of Messages by Category and Word Count\u001b[39m\u001b[38;5;124m'\u001b[39m\n\u001b[1;32m    102\u001b[0m         },\n\u001b[1;32m    103\u001b[0m         \u001b[38;5;124m'\u001b[39m\u001b[38;5;124myaxis\u001b[39m\u001b[38;5;124m'\u001b[39m: {\n\u001b[1;32m    104\u001b[0m             \u001b[38;5;124m'\u001b[39m\u001b[38;5;124mtitle\u001b[39m\u001b[38;5;124m'\u001b[39m: {\n\u001b[1;32m    105\u001b[0m                 \u001b[38;5;124m'\u001b[39m\u001b[38;5;124mtext\u001b[39m\u001b[38;5;124m'\u001b[39m: \u001b[38;5;124m\"\u001b[39m\u001b[38;5;124mMessage Category\u001b[39m\u001b[38;5;124m\"\u001b[39m\n\u001b[1;32m    106\u001b[0m             }\n\u001b[1;32m    107\u001b[0m         },\n\u001b[1;32m    108\u001b[0m         \u001b[38;5;124m'\u001b[39m\u001b[38;5;124mxaxis\u001b[39m\u001b[38;5;124m'\u001b[39m: {\n\u001b[1;32m    109\u001b[0m             \u001b[38;5;124m'\u001b[39m\u001b[38;5;124mtitle\u001b[39m\u001b[38;5;124m'\u001b[39m: {\n\u001b[1;32m    110\u001b[0m                 \u001b[38;5;124m'\u001b[39m\u001b[38;5;124mtext\u001b[39m\u001b[38;5;124m'\u001b[39m: \u001b[38;5;124m\"\u001b[39m\u001b[38;5;124mPercentage of total\u001b[39m\u001b[38;5;124m\"\u001b[39m\n\u001b[1;32m    111\u001b[0m             }\n\u001b[1;32m    112\u001b[0m         }\n\u001b[1;32m    113\u001b[0m     }\n\u001b[1;32m    114\u001b[0m }\n\u001b[1;32m    116\u001b[0m plotly\u001b[38;5;241m.\u001b[39mio\u001b[38;5;241m.\u001b[39mfrom_json( get_graph_json(percentage_per_bin_graph) )\n",
      "File \u001b[0;32m~/new_base/lib/python3.12/site-packages/plotly/graph_objs/_bar.py:3507\u001b[0m, in \u001b[0;36mBar.__init__\u001b[0;34m(self, arg, alignmentgroup, base, basesrc, cliponaxis, constraintext, customdata, customdatasrc, dx, dy, error_x, error_y, hoverinfo, hoverinfosrc, hoverlabel, hovertemplate, hovertemplatesrc, hovertext, hovertextsrc, ids, idssrc, insidetextanchor, insidetextfont, legend, legendgroup, legendgrouptitle, legendrank, legendwidth, marker, meta, metasrc, name, offset, offsetgroup, offsetsrc, opacity, orientation, outsidetextfont, selected, selectedpoints, showlegend, stream, text, textangle, textfont, textposition, textpositionsrc, textsrc, texttemplate, texttemplatesrc, uid, uirevision, unselected, visible, width, widthsrc, x, x0, xaxis, xcalendar, xhoverformat, xperiod, xperiod0, xperiodalignment, xsrc, y, y0, yaxis, ycalendar, yhoverformat, yperiod, yperiod0, yperiodalignment, ysrc, zorder, **kwargs)\u001b[0m\n\u001b[1;32m   3503\u001b[0m arg\u001b[38;5;241m.\u001b[39mpop(\u001b[38;5;124m\"\u001b[39m\u001b[38;5;124mtype\u001b[39m\u001b[38;5;124m\"\u001b[39m, \u001b[38;5;28;01mNone\u001b[39;00m)\n\u001b[1;32m   3505\u001b[0m \u001b[38;5;66;03m# Process unknown kwargs\u001b[39;00m\n\u001b[1;32m   3506\u001b[0m \u001b[38;5;66;03m# ----------------------\u001b[39;00m\n\u001b[0;32m-> 3507\u001b[0m \u001b[38;5;28;43mself\u001b[39;49m\u001b[38;5;241;43m.\u001b[39;49m\u001b[43m_process_kwargs\u001b[49m\u001b[43m(\u001b[49m\u001b[38;5;241;43m*\u001b[39;49m\u001b[38;5;241;43m*\u001b[39;49m\u001b[38;5;28;43mdict\u001b[39;49m\u001b[43m(\u001b[49m\u001b[43marg\u001b[49m\u001b[43m,\u001b[49m\u001b[43m \u001b[49m\u001b[38;5;241;43m*\u001b[39;49m\u001b[38;5;241;43m*\u001b[39;49m\u001b[43mkwargs\u001b[49m\u001b[43m)\u001b[49m\u001b[43m)\u001b[49m\n\u001b[1;32m   3509\u001b[0m \u001b[38;5;66;03m# Reset skip_invalid\u001b[39;00m\n\u001b[1;32m   3510\u001b[0m \u001b[38;5;66;03m# ------------------\u001b[39;00m\n\u001b[1;32m   3511\u001b[0m \u001b[38;5;28mself\u001b[39m\u001b[38;5;241m.\u001b[39m_skip_invalid \u001b[38;5;241m=\u001b[39m \u001b[38;5;28;01mFalse\u001b[39;00m\n",
      "File \u001b[0;32m~/new_base/lib/python3.12/site-packages/plotly/basedatatypes.py:4378\u001b[0m, in \u001b[0;36mBasePlotlyType._process_kwargs\u001b[0;34m(self, **kwargs)\u001b[0m\n\u001b[1;32m   4376\u001b[0m     \u001b[38;5;28mself\u001b[39m[k] \u001b[38;5;241m=\u001b[39m v\n\u001b[1;32m   4377\u001b[0m \u001b[38;5;28;01melif\u001b[39;00m \u001b[38;5;129;01mnot\u001b[39;00m \u001b[38;5;28mself\u001b[39m\u001b[38;5;241m.\u001b[39m_skip_invalid:\n\u001b[0;32m-> 4378\u001b[0m     \u001b[38;5;28;01mraise\u001b[39;00m err\n",
      "\u001b[0;31mValueError\u001b[0m: Invalid property specified for object of type plotly.graph_objs.Bar: 'color'\n\nDid you mean \"zorder\"?\n\n    Valid properties:\n        alignmentgroup\n            Set several traces linked to the same position axis or\n            matching axes to the same alignmentgroup. This controls\n            whether bars compute their positional range dependently\n            or independently.\n        base\n            Sets where the bar base is drawn (in position axis\n            units). In \"stack\" or \"relative\" barmode, traces that\n            set \"base\" will be excluded and drawn in \"overlay\" mode\n            instead.\n        basesrc\n            Sets the source reference on Chart Studio Cloud for\n            `base`.\n        cliponaxis\n            Determines whether the text nodes are clipped about the\n            subplot axes. To show the text nodes above axis lines\n            and tick labels, make sure to set `xaxis.layer` and\n            `yaxis.layer` to *below traces*.\n        constraintext\n            Constrain the size of text inside or outside a bar to\n            be no larger than the bar itself.\n        customdata\n            Assigns extra data each datum. This may be useful when\n            listening to hover, click and selection events. Note\n            that, \"scatter\" traces also appends customdata items in\n            the markers DOM elements\n        customdatasrc\n            Sets the source reference on Chart Studio Cloud for\n            `customdata`.\n        dx\n            Sets the x coordinate step. See `x0` for more info.\n        dy\n            Sets the y coordinate step. See `y0` for more info.\n        error_x\n            :class:`plotly.graph_objects.bar.ErrorX` instance or\n            dict with compatible properties\n        error_y\n            :class:`plotly.graph_objects.bar.ErrorY` instance or\n            dict with compatible properties\n        hoverinfo\n            Determines which trace information appear on hover. If\n            `none` or `skip` are set, no information is displayed\n            upon hovering. But, if `none` is set, click and hover\n            events are still fired.\n        hoverinfosrc\n            Sets the source reference on Chart Studio Cloud for\n            `hoverinfo`.\n        hoverlabel\n            :class:`plotly.graph_objects.bar.Hoverlabel` instance\n            or dict with compatible properties\n        hovertemplate\n            Template string used for rendering the information that\n            appear on hover box. Note that this will override\n            `hoverinfo`. Variables are inserted using %{variable},\n            for example \"y: %{y}\" as well as %{xother}, {%_xother},\n            {%_xother_}, {%xother_}. When showing info for several\n            points, \"xother\" will be added to those with different\n            x positions from the first point. An underscore before\n            or after \"(x|y)other\" will add a space on that side,\n            only when this field is shown. Numbers are formatted\n            using d3-format's syntax %{variable:d3-format}, for\n            example \"Price: %{y:$.2f}\".\n            https://github.com/d3/d3-format/tree/v1.4.5#d3-format\n            for details on the formatting syntax. Dates are\n            formatted using d3-time-format's syntax\n            %{variable|d3-time-format}, for example \"Day:\n            %{2019-01-01|%A}\". https://github.com/d3/d3-time-\n            format/tree/v2.2.3#locale_format for details on the\n            date formatting syntax. The variables available in\n            `hovertemplate` are the ones emitted as event data\n            described at this link\n            https://plotly.com/javascript/plotlyjs-events/#event-\n            data. Additionally, every attributes that can be\n            specified per-point (the ones that are `arrayOk: true`)\n            are available. Finally, the template string has access\n            to variables `value` and `label`. Anything contained in\n            tag `<extra>` is displayed in the secondary box, for\n            example \"<extra>{fullData.name}</extra>\". To hide the\n            secondary box completely, use an empty tag\n            `<extra></extra>`.\n        hovertemplatesrc\n            Sets the source reference on Chart Studio Cloud for\n            `hovertemplate`.\n        hovertext\n            Sets hover text elements associated with each (x,y)\n            pair. If a single string, the same string appears over\n            all the data points. If an array of string, the items\n            are mapped in order to the this trace's (x,y)\n            coordinates. To be seen, trace `hoverinfo` must contain\n            a \"text\" flag.\n        hovertextsrc\n            Sets the source reference on Chart Studio Cloud for\n            `hovertext`.\n        ids\n            Assigns id labels to each datum. These ids for object\n            constancy of data points during animation. Should be an\n            array of strings, not numbers or any other type.\n        idssrc\n            Sets the source reference on Chart Studio Cloud for\n            `ids`.\n        insidetextanchor\n            Determines if texts are kept at center or start/end\n            points in `textposition` \"inside\" mode.\n        insidetextfont\n            Sets the font used for `text` lying inside the bar.\n        legend\n            Sets the reference to a legend to show this trace in.\n            References to these legends are \"legend\", \"legend2\",\n            \"legend3\", etc. Settings for these legends are set in\n            the layout, under `layout.legend`, `layout.legend2`,\n            etc.\n        legendgroup\n            Sets the legend group for this trace. Traces and shapes\n            part of the same legend group hide/show at the same\n            time when toggling legend items.\n        legendgrouptitle\n            :class:`plotly.graph_objects.bar.Legendgrouptitle`\n            instance or dict with compatible properties\n        legendrank\n            Sets the legend rank for this trace. Items and groups\n            with smaller ranks are presented on top/left side while\n            with \"reversed\" `legend.traceorder` they are on\n            bottom/right side. The default legendrank is 1000, so\n            that you can use ranks less than 1000 to place certain\n            items before all unranked items, and ranks greater than\n            1000 to go after all unranked items. When having\n            unranked or equal rank items shapes would be displayed\n            after traces i.e. according to their order in data and\n            layout.\n        legendwidth\n            Sets the width (in px or fraction) of the legend for\n            this trace.\n        marker\n            :class:`plotly.graph_objects.bar.Marker` instance or\n            dict with compatible properties\n        meta\n            Assigns extra meta information associated with this\n            trace that can be used in various text attributes.\n            Attributes such as trace `name`, graph, axis and\n            colorbar `title.text`, annotation `text`\n            `rangeselector`, `updatemenues` and `sliders` `label`\n            text all support `meta`. To access the trace `meta`\n            values in an attribute in the same trace, simply use\n            `%{meta[i]}` where `i` is the index or key of the\n            `meta` item in question. To access trace `meta` in\n            layout attributes, use `%{data[n[.meta[i]}` where `i`\n            is the index or key of the `meta` and `n` is the trace\n            index.\n        metasrc\n            Sets the source reference on Chart Studio Cloud for\n            `meta`.\n        name\n            Sets the trace name. The trace name appears as the\n            legend item and on hover.\n        offset\n            Shifts the position where the bar is drawn (in position\n            axis units). In \"group\" barmode, traces that set\n            \"offset\" will be excluded and drawn in \"overlay\" mode\n            instead.\n        offsetgroup\n            Set several traces linked to the same position axis or\n            matching axes to the same offsetgroup where bars of the\n            same position coordinate will line up.\n        offsetsrc\n            Sets the source reference on Chart Studio Cloud for\n            `offset`.\n        opacity\n            Sets the opacity of the trace.\n        orientation\n            Sets the orientation of the bars. With \"v\" (\"h\"), the\n            value of the each bar spans along the vertical\n            (horizontal).\n        outsidetextfont\n            Sets the font used for `text` lying outside the bar.\n        selected\n            :class:`plotly.graph_objects.bar.Selected` instance or\n            dict with compatible properties\n        selectedpoints\n            Array containing integer indices of selected points.\n            Has an effect only for traces that support selections.\n            Note that an empty array means an empty selection where\n            the `unselected` are turned on for all points, whereas,\n            any other non-array values means no selection all where\n            the `selected` and `unselected` styles have no effect.\n        showlegend\n            Determines whether or not an item corresponding to this\n            trace is shown in the legend.\n        stream\n            :class:`plotly.graph_objects.bar.Stream` instance or\n            dict with compatible properties\n        text\n            Sets text elements associated with each (x,y) pair. If\n            a single string, the same string appears over all the\n            data points. If an array of string, the items are\n            mapped in order to the this trace's (x,y) coordinates.\n            If trace `hoverinfo` contains a \"text\" flag and\n            \"hovertext\" is not set, these elements will be seen in\n            the hover labels.\n        textangle\n            Sets the angle of the tick labels with respect to the\n            bar. For example, a `tickangle` of -90 draws the tick\n            labels vertically. With \"auto\" the texts may\n            automatically be rotated to fit with the maximum size\n            in bars.\n        textfont\n            Sets the font used for `text`.\n        textposition\n            Specifies the location of the `text`. \"inside\"\n            positions `text` inside, next to the bar end (rotated\n            and scaled if needed). \"outside\" positions `text`\n            outside, next to the bar end (scaled if needed), unless\n            there is another bar stacked on this one, then the text\n            gets pushed inside. \"auto\" tries to position `text`\n            inside the bar, but if the bar is too small and no bar\n            is stacked on this one the text is moved outside. If\n            \"none\", no text appears.\n        textpositionsrc\n            Sets the source reference on Chart Studio Cloud for\n            `textposition`.\n        textsrc\n            Sets the source reference on Chart Studio Cloud for\n            `text`.\n        texttemplate\n            Template string used for rendering the information text\n            that appear on points. Note that this will override\n            `textinfo`. Variables are inserted using %{variable},\n            for example \"y: %{y}\". Numbers are formatted using\n            d3-format's syntax %{variable:d3-format}, for example\n            \"Price: %{y:$.2f}\".\n            https://github.com/d3/d3-format/tree/v1.4.5#d3-format\n            for details on the formatting syntax. Dates are\n            formatted using d3-time-format's syntax\n            %{variable|d3-time-format}, for example \"Day:\n            %{2019-01-01|%A}\". https://github.com/d3/d3-time-\n            format/tree/v2.2.3#locale_format for details on the\n            date formatting syntax. Every attributes that can be\n            specified per-point (the ones that are `arrayOk: true`)\n            are available. Finally, the template string has access\n            to variables `value` and `label`.\n        texttemplatesrc\n            Sets the source reference on Chart Studio Cloud for\n            `texttemplate`.\n        uid\n            Assign an id to this trace, Use this to provide object\n            constancy between traces during animations and\n            transitions.\n        uirevision\n            Controls persistence of some user-driven changes to the\n            trace: `constraintrange` in `parcoords` traces, as well\n            as some `editable: true` modifications such as `name`\n            and `colorbar.title`. Defaults to `layout.uirevision`.\n            Note that other user-driven trace attribute changes are\n            controlled by `layout` attributes: `trace.visible` is\n            controlled by `layout.legend.uirevision`,\n            `selectedpoints` is controlled by\n            `layout.selectionrevision`, and `colorbar.(x|y)`\n            (accessible with `config: {editable: true}`) is\n            controlled by `layout.editrevision`. Trace changes are\n            tracked by `uid`, which only falls back on trace index\n            if no `uid` is provided. So if your app can add/remove\n            traces before the end of the `data` array, such that\n            the same trace has a different index, you can still\n            preserve user-driven changes if you give each trace a\n            `uid` that stays with it as it moves.\n        unselected\n            :class:`plotly.graph_objects.bar.Unselected` instance\n            or dict with compatible properties\n        visible\n            Determines whether or not this trace is visible. If\n            \"legendonly\", the trace is not drawn, but can appear as\n            a legend item (provided that the legend itself is\n            visible).\n        width\n            Sets the bar width (in position axis units).\n        widthsrc\n            Sets the source reference on Chart Studio Cloud for\n            `width`.\n        x\n            Sets the x coordinates.\n        x0\n            Alternate to `x`. Builds a linear space of x\n            coordinates. Use with `dx` where `x0` is the starting\n            coordinate and `dx` the step.\n        xaxis\n            Sets a reference between this trace's x coordinates and\n            a 2D cartesian x axis. If \"x\" (the default value), the\n            x coordinates refer to `layout.xaxis`. If \"x2\", the x\n            coordinates refer to `layout.xaxis2`, and so on.\n        xcalendar\n            Sets the calendar system to use with `x` date data.\n        xhoverformat\n            Sets the hover text formatting rulefor `x`  using d3\n            formatting mini-languages which are very similar to\n            those in Python. For numbers, see:\n            https://github.com/d3/d3-format/tree/v1.4.5#d3-format.\n            And for dates see: https://github.com/d3/d3-time-\n            format/tree/v2.2.3#locale_format. We add two items to\n            d3's date formatter: \"%h\" for half of the year as a\n            decimal number as well as \"%{n}f\" for fractional\n            seconds with n digits. For example, *2016-10-13\n            09:15:23.456* with tickformat \"%H~%M~%S.%2f\" would\n            display *09~15~23.46*By default the values are\n            formatted using `xaxis.hoverformat`.\n        xperiod\n            Only relevant when the axis `type` is \"date\". Sets the\n            period positioning in milliseconds or \"M<n>\" on the x\n            axis. Special values in the form of \"M<n>\" could be\n            used to declare the number of months. In this case `n`\n            must be a positive integer.\n        xperiod0\n            Only relevant when the axis `type` is \"date\". Sets the\n            base for period positioning in milliseconds or date\n            string on the x0 axis. When `x0period` is round number\n            of weeks, the `x0period0` by default would be on a\n            Sunday i.e. 2000-01-02, otherwise it would be at\n            2000-01-01.\n        xperiodalignment\n            Only relevant when the axis `type` is \"date\". Sets the\n            alignment of data points on the x axis.\n        xsrc\n            Sets the source reference on Chart Studio Cloud for\n            `x`.\n        y\n            Sets the y coordinates.\n        y0\n            Alternate to `y`. Builds a linear space of y\n            coordinates. Use with `dy` where `y0` is the starting\n            coordinate and `dy` the step.\n        yaxis\n            Sets a reference between this trace's y coordinates and\n            a 2D cartesian y axis. If \"y\" (the default value), the\n            y coordinates refer to `layout.yaxis`. If \"y2\", the y\n            coordinates refer to `layout.yaxis2`, and so on.\n        ycalendar\n            Sets the calendar system to use with `y` date data.\n        yhoverformat\n            Sets the hover text formatting rulefor `y`  using d3\n            formatting mini-languages which are very similar to\n            those in Python. For numbers, see:\n            https://github.com/d3/d3-format/tree/v1.4.5#d3-format.\n            And for dates see: https://github.com/d3/d3-time-\n            format/tree/v2.2.3#locale_format. We add two items to\n            d3's date formatter: \"%h\" for half of the year as a\n            decimal number as well as \"%{n}f\" for fractional\n            seconds with n digits. For example, *2016-10-13\n            09:15:23.456* with tickformat \"%H~%M~%S.%2f\" would\n            display *09~15~23.46*By default the values are\n            formatted using `yaxis.hoverformat`.\n        yperiod\n            Only relevant when the axis `type` is \"date\". Sets the\n            period positioning in milliseconds or \"M<n>\" on the y\n            axis. Special values in the form of \"M<n>\" could be\n            used to declare the number of months. In this case `n`\n            must be a positive integer.\n        yperiod0\n            Only relevant when the axis `type` is \"date\". Sets the\n            base for period positioning in milliseconds or date\n            string on the y0 axis. When `y0period` is round number\n            of weeks, the `y0period0` by default would be on a\n            Sunday i.e. 2000-01-02, otherwise it would be at\n            2000-01-01.\n        yperiodalignment\n            Only relevant when the axis `type` is \"date\". Sets the\n            alignment of data points on the y axis.\n        ysrc\n            Sets the source reference on Chart Studio Cloud for\n            `y`.\n        zorder\n            Sets the layer on which this trace is displayed,\n            relative to other SVG traces on the same subplot. SVG\n            traces with higher `zorder` appear in front of those\n            with lower `zorder`.\n        \nDid you mean \"zorder\"?\n\nBad property path:\ncolor\n^^^^^"
     ]
    }
   ],
   "source": [
    "# group the dataframe by word_count bin and category and get the count for each group.\n",
    "# x axis can be the word_count bin, y axis can be the count, and the size of the bubble can be the category count\n",
    "\n",
    "cat_wordcount_counts = df.copy()\n",
    "\n",
    "bins = [0, 10, 20, 30, 40, 50, float('inf')]\n",
    "labels=['0-9', '10-19', '20-29', '30-39', '40-49', '50+']\n",
    "word_count = cat_wordcount_counts['message'].apply( lambda msg: len(tokenize(msg)) ).rename('word_count').reset_index(drop=True)\n",
    "cat_wordcount_counts['word_count_bins'] = pd.cut( word_count, bins=bins, labels=labels )\n",
    "\n",
    "msg_category_cols = df.columns[4:]\n",
    "cat_count = cat_wordcount_counts[msg_category_cols].sum().sort_values(ascending=False)\n",
    "msg_category_display = [ cn.replace(\"_\", \" \").capitalize() for cn in cat_count.index ]\n",
    "\n",
    "cat_wordcount_counts = cat_wordcount_counts[['word_count_bins', *msg_category_cols]].groupby(['word_count_bins']).sum().reset_index()\n",
    "\n",
    "count_by_category_and_bin = pd.melt( cat_wordcount_counts, id_vars=['word_count_bins'], value_vars=msg_category_cols, var_name='category', value_name='count' )\n",
    "count_by_category_and_bin['marker_size'] = count_by_category_and_bin['word_count_bins'].apply( lambda x: int(x.split('-')[0]) + 10 if x != '50+' else 60 )\n",
    "\n",
    "total_counts = count_by_category_and_bin.groupby('category')['count'].sum().reset_index().rename(columns={'count': 'total_count'})\n",
    "\n",
    "count_by_category_and_bin = count_by_category_and_bin.merge(total_counts, on='category')\n",
    "count_by_category_and_bin['percentage'] = count_by_category_and_bin['count'] / count_by_category_and_bin['total_count'] * 100\n",
    "count_by_category_and_bin['percentage'] = count_by_category_and_bin['percentage'].apply( lambda x: round(x, 2) )\n",
    "\n",
    "count_by_category_and_bin.sort_values(by=['category', 'word_count_bins'], ascending=[True, False], inplace=True)\n",
    "\n",
    "fig = go.Figure()\n",
    "\n",
    "## Good at showing the count of messages by category and word count, but the categories are the same color\n",
    "# fig.add_trace(\n",
    "#     go.Scatter(\n",
    "#         x=count_by_category_and_bin['category'].apply( lambda x: x.replace(\"_\", \" \").capitalize() ),\n",
    "#         y=count_by_category_and_bin['word_count_bins'],\n",
    "#         name='Count',\n",
    "#         mode='markers',\n",
    "#         marker=dict(\n",
    "#             size=count_by_category_and_bin['marker_size']\n",
    "#         )\n",
    "#     )\n",
    "# )\n",
    "\n",
    "## Good for showing the categories as their own color\n",
    "# for category in msg_category_cols:\n",
    "#     category_data = count_by_category_and_bin[count_by_category_and_bin['category'] == category]\n",
    "#     fig.add_trace(\n",
    "#         go.Scatter(\n",
    "#             x=category_data['category'].apply( lambda x: x.replace(\"_\", \" \").capitalize() ),\n",
    "#             y=category_data['count'],\n",
    "#             name=category,\n",
    "#             text=category_data['word_count_bins'],\n",
    "#             mode='markers',\n",
    "#             marker=dict(\n",
    "#                 size=category_data['marker_size']\n",
    "#             )\n",
    "#         )\n",
    "#     )\n",
    "\n",
    "# fig.update_layout(\n",
    "#     title='Count of Messages by Category and Word Count',\n",
    "#     xaxis=dict(\n",
    "#         title='Category'\n",
    "#     ),\n",
    "#     yaxis=dict(\n",
    "#         title='Message Count',\n",
    "#         type='log'\n",
    "#     )\n",
    "# )\n",
    "\n",
    "## shows the bar chart, but has separate bar for each category\n",
    "# for category in msg_category_cols:\n",
    "#     category_data = count_by_category_and_bin[count_by_category_and_bin['category'] == category]\n",
    "#     fig.add_trace(\n",
    "#         go.Bar(\n",
    "#             x=category_data['word_count_bins'],\n",
    "#             y=category_data['count'],\n",
    "#             name=category,\n",
    "#             text=category_data['count'],\n",
    "#             textposition='auto'\n",
    "#         )\n",
    "#     )\n",
    "\n",
    "# ## creating a stacked barchart to show percentages per category - This is the final form, need to convert to json\n",
    "# import plotly.express as px\n",
    "# fig = px.bar(count_by_category_and_bin, x='category', y='percentage', color='word_count_bins', barmode='stack')\n",
    "\n",
    "# fig.show()\n",
    "\n",
    "#https://plotly.com/javascript/reference/index/\n",
    "percentage_per_bin_graph = {\n",
    "    'data': [\n",
    "        go.Bar(\n",
    "            x=count_by_category_and_bin['category'],\n",
    "            y=count_by_category_and_bin['percentage'],\n",
    "            color=count_by_category_and_bin['word_count_bins'],\n",
    "            text=count_by_category_and_bin['percentage']\n",
    "        )\n",
    "    ],\n",
    "\n",
    "    'layout': {\n",
    "        'title': {\n",
    "            'text': 'Percentage of Messages by Category and Word Count'\n",
    "        },\n",
    "        'yaxis': {\n",
    "            'title': {\n",
    "                'text': \"Message Category\"\n",
    "            }\n",
    "        },\n",
    "        'xaxis': {\n",
    "            'title': {\n",
    "                'text': \"Percentage of total\"\n",
    "            }\n",
    "        }\n",
    "    }\n",
    "}\n",
    "\n",
    "plotly.io.from_json( get_graph_json(percentage_per_bin_graph) )"
   ]
  },
  {
   "cell_type": "markdown",
   "metadata": {},
   "source": []
  },
  {
   "cell_type": "code",
   "execution_count": null,
   "metadata": {},
   "outputs": [],
   "source": []
  }
 ],
 "metadata": {
  "kernelspec": {
   "display_name": "new_base",
   "language": "python",
   "name": "python3"
  },
  "language_info": {
   "codemirror_mode": {
    "name": "ipython",
    "version": 3
   },
   "file_extension": ".py",
   "mimetype": "text/x-python",
   "name": "python",
   "nbconvert_exporter": "python",
   "pygments_lexer": "ipython3",
   "version": "3.12.8"
  }
 },
 "nbformat": 4,
 "nbformat_minor": 2
}
